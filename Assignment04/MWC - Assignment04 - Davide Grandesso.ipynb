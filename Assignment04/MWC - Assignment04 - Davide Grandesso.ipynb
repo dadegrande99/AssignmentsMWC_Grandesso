{
 "cells": [
  {
   "cell_type": "markdown",
   "id": "25cbc15b",
   "metadata": {
    "editable": true,
    "slideshow": {
     "slide_type": "slide"
    },
    "tags": []
   },
   "source": [
    "# MWC - Assignment04\n",
    "\n",
    "[Davide Grandesso](mailto:davide.grandesso@usi.ch)"
   ]
  },
  {
   "cell_type": "code",
   "execution_count": 1,
   "id": "4c574d19",
   "metadata": {
    "editable": true,
    "slideshow": {
     "slide_type": "skip"
    },
    "tags": []
   },
   "outputs": [
    {
     "data": {
      "text/html": [
       "        <script type=\"text/javascript\">\n",
       "        window.PlotlyConfig = {MathJaxConfig: 'local'};\n",
       "        if (window.MathJax && window.MathJax.Hub && window.MathJax.Hub.Config) {window.MathJax.Hub.Config({SVG: {font: \"STIX-Web\"}});}\n",
       "        if (typeof require !== 'undefined') {\n",
       "        require.undef(\"plotly\");\n",
       "        requirejs.config({\n",
       "            paths: {\n",
       "                'plotly': ['https://cdn.plot.ly/plotly-2.27.0.min']\n",
       "            }\n",
       "        });\n",
       "        require(['plotly'], function(Plotly) {\n",
       "            window._Plotly = Plotly;\n",
       "        });\n",
       "        }\n",
       "        </script>\n",
       "        "
      ]
     },
     "metadata": {},
     "output_type": "display_data"
    },
    {
     "data": {
      "text/html": [
       "        <script type=\"text/javascript\">\n",
       "        window.PlotlyConfig = {MathJaxConfig: 'local'};\n",
       "        if (window.MathJax && window.MathJax.Hub && window.MathJax.Hub.Config) {window.MathJax.Hub.Config({SVG: {font: \"STIX-Web\"}});}\n",
       "        if (typeof require !== 'undefined') {\n",
       "        require.undef(\"plotly\");\n",
       "        requirejs.config({\n",
       "            paths: {\n",
       "                'plotly': ['https://cdn.plot.ly/plotly-2.27.0.min']\n",
       "            }\n",
       "        });\n",
       "        require(['plotly'], function(Plotly) {\n",
       "            window._Plotly = Plotly;\n",
       "        });\n",
       "        }\n",
       "        </script>\n",
       "        "
      ]
     },
     "metadata": {},
     "output_type": "display_data"
    }
   ],
   "source": [
    "###############\n",
    "# Some methods and functions to support our analysis\n",
    "# NOTE: this code is not shown in the slides, but you should run it!\n",
    "# Feel free to give a look on how we load the data, extract features and all others\n",
    "# methods we did not describe explicitly in the lecture\n",
    "###############\n",
    "\n",
    "# imports\n",
    "import numpy as np\n",
    "import pandas as pd\n",
    "from typing import Literal\n",
    "from IPython.display import display\n",
    "import matplotlib.pyplot as plt\n",
    "import seaborn as sns\n",
    "import warnings\n",
    "\n",
    "warnings.filterwarnings(\"ignore\")\n",
    "plt.style.use(\"seaborn-v0_8\")\n",
    "\n",
    "from scipy.signal import butter, lfilter, filtfilt\n",
    "from pandas import Series, DataFrame\n",
    "from numpy import ndarray\n",
    "\n",
    "from plotly import __version__\n",
    "from plotly.offline import (\n",
    "    download_plotlyjs,\n",
    "    init_notebook_mode,\n",
    "    plot,\n",
    "    iplot,\n",
    ")\n",
    "\n",
    "init_notebook_mode(connected=True)\n",
    "import plotly.offline as offline\n",
    "import plotly.graph_objs as go\n",
    "\n",
    "from neurokit2.eda import eda_peaks\n",
    "from warnings import warn\n",
    "\n",
    "from time import time\n",
    "from sys import getsizeof\n",
    "\n",
    "from json import load as load_json\n",
    "from typing import Any\n",
    "\n",
    "from logging import getLogger\n",
    "from typing import Any\n",
    "from numpy import ndarray, mean, std, gradient, isnan, array\n",
    "from scipy.stats import linregress\n",
    "from neurokit2.eda import eda_peaks\n",
    "\n",
    "\n",
    "# Set notebook mode to work in offline\n",
    "offline.init_notebook_mode(connected=True)\n",
    "\n",
    "\n",
    "def butter_lowpass_filter_filtfilt(\n",
    "    data: Series, cutoff: float, fs: int, order: int\n",
    ") -> ndarray:\n",
    "    \"\"\"Method to create and then apply a digital filter forward and backward to a signal.\n",
    "\n",
    "    Args:\n",
    "        data (ndarray): timeseries to be filtered, e.g. EDA data signal\n",
    "        cutoff (float): cutoff point for the lowpass, e.g. `5`\n",
    "        fs (int): frequency of the singal, e.g. `64`\n",
    "        order (int): order for the filter, e.g. `2`\n",
    "\n",
    "    Returns:\n",
    "        ndarray: returns the data filtered\n",
    "    \"\"\"\n",
    "    b, a = butter_lowpass(cutoff, fs, order=order)\n",
    "    if isinstance(data, DataFrame):\n",
    "        y: ndarray = filtfilt(b=b, a=a, x=data.iloc[:, 0].values)\n",
    "        y = stack([y, data.iloc[:, 1].values], axis=1)\n",
    "    elif isinstance(data, Series):\n",
    "        y: ndarray = filtfilt(b=b, a=a, x=data.values)\n",
    "    else:\n",
    "        raise TypeError(\n",
    "            f\"The method takes as input either pandas Dataframe or Series objects. Recevied {type(data)} instead\"\n",
    "        )\n",
    "    return y\n",
    "\n",
    "\n",
    "def butter_lowpass(\n",
    "    cutoff: float, fs: int, order: int\n",
    ") -> tuple[float, float]:\n",
    "    \"\"\"Figure out the numerator (`b`) and denominator (`a`) coefficients for a linear digital\n",
    "    filter\n",
    "\n",
    "    Args:\n",
    "        cutoff (float): cutoff value\n",
    "        fs (int): frequency of the signal\n",
    "        order (int): order for the Butterworth filter\n",
    "\n",
    "    Returns:\n",
    "        (tuple): numerator and denominator coefficients for the lowpass filter\n",
    "    \"\"\"\n",
    "    # NOTE: Nyquist frequeny is half the sampling frequency\n",
    "    nyq = 0.5 * fs\n",
    "    # NOTE: Normalization of the cutoff signal\n",
    "    normal_cutoff = cutoff / nyq\n",
    "    b, a = butter(order, normal_cutoff, btype=\"low\", analog=False)\n",
    "    return b, a\n",
    "\n",
    "\n",
    "def make_interactive_lineplot(\n",
    "    data: pd.DataFrame,\n",
    "    x: str | Literal[\"index\"] | list[str | Literal[\"index\"]],\n",
    "    y: str | Literal[\"index\"] | list[str | Literal[\"index\"]],\n",
    "    name: str | list[str],\n",
    "    title: str,\n",
    "    xlabel: str = \"\",\n",
    "    ylabel: str = \"\",\n",
    "    **kwargs,\n",
    "):\n",
    "    traces = list()\n",
    "    if (\n",
    "        isinstance(x, list)\n",
    "        and isinstance(y, list)\n",
    "        and isinstance(name, list)\n",
    "    ):\n",
    "        for x_val, y_val, name_val in zip(x, y, name):\n",
    "            trace = go.Scatter(\n",
    "                x=data[x_val] if x_val != \"index\" else data.index,\n",
    "                y=data[y_val] if y_val != \"index\" else data.index,\n",
    "                name=name_val,\n",
    "            )\n",
    "            traces.append(trace)\n",
    "    elif (\n",
    "        isinstance(x, str)\n",
    "        and isinstance(y, str)\n",
    "        and isinstance(name, str)\n",
    "    ):\n",
    "        trace = go.Scatter(\n",
    "            x=data[x] if x != \"index\" else data.index,\n",
    "            y=data[y] if y != \"index\" else data.index,\n",
    "            name=name,\n",
    "        )\n",
    "        traces.append(trace)\n",
    "    else:\n",
    "        raise TypeError(\n",
    "            f\"x, y and name must be either all lists or all strings. Got x: {type(x)}, y: {type(y)}, name: {type(name)}\"\n",
    "        )\n",
    "\n",
    "    default_rangeselector = dict(\n",
    "        buttons=list(\n",
    "            [\n",
    "                dict(\n",
    "                    count=1,\n",
    "                    label=\"1m\",\n",
    "                    step=\"month\",\n",
    "                    stepmode=\"backward\",\n",
    "                ),\n",
    "                dict(\n",
    "                    count=6,\n",
    "                    label=\"6m\",\n",
    "                    step=\"month\",\n",
    "                    stepmode=\"backward\",\n",
    "                ),\n",
    "                dict(step=\"all\"),\n",
    "            ]\n",
    "        )\n",
    "    )\n",
    "\n",
    "    layout = dict(\n",
    "        title=title,\n",
    "        xaxis=dict(\n",
    "            rangeselector=kwargs.get(\n",
    "                \"rangeselector\", default_rangeselector\n",
    "            ),\n",
    "            rangeslider=dict(),\n",
    "            type=kwargs.get(\"xtype\", \"date\"),\n",
    "            title=xlabel,\n",
    "        ),\n",
    "        yaxis=dict(\n",
    "            title=ylabel,\n",
    "        ),\n",
    "    )\n",
    "    fig = dict(data=traces, layout=layout)\n",
    "    indexes = []\n",
    "\n",
    "    offline.iplot(fig, filename=kwargs.get(\"filename\", None))\n",
    "\n",
    "\n",
    "def normalize_signals(x: np.ndarray) -> np.ndarray:\n",
    "    \"\"\"\n",
    "    This method takes as input an array and perform the normalization (min-max) over it.\n",
    "\n",
    "    Args:\n",
    "        x (ndarray): input array\n",
    "\n",
    "    Returns:\n",
    "        (ndarray): array normalized\n",
    "\n",
    "    \"\"\"\n",
    "    max_val: float = np.max(x)\n",
    "    min_val: float = np.min(x)\n",
    "    return (x - min_val) / (max_val - min_val)\n",
    "\n",
    "\n",
    "def calculate_rise_time(\n",
    "    signal: np.ndarray, sampling_rate: int\n",
    ") -> float:\n",
    "    \"\"\"\n",
    "    Calculates the rise time of an EDA physiological signal.\n",
    "\n",
    "    Parameters:\n",
    "        signal (np.ndarray): EDA physiological signal.\n",
    "        sampling_rate (int): Sampling rate of the signal in Hz.\n",
    "\n",
    "    Returns:\n",
    "        float: Rise time in seconds.\n",
    "    \"\"\"\n",
    "    peak_amplitude = np.max(signal)\n",
    "    threshold_10 = 0.1 * peak_amplitude\n",
    "    threshold_90 = 0.9 * peak_amplitude\n",
    "\n",
    "    # Find the indices where the signal crosses the 10% and 90% thresholds\n",
    "    index_10 = np.argmax(signal >= threshold_10)\n",
    "    index_90 = np.argmax(signal >= threshold_90)\n",
    "\n",
    "    # Calculate the rise time in seconds\n",
    "    rise_time = (index_90 - index_10) / sampling_rate\n",
    "\n",
    "    return rise_time\n",
    "\n",
    "\n",
    "def calculate_decay_time(\n",
    "    signal: np.ndarray, sampling_rate: int\n",
    ") -> float:\n",
    "    \"\"\"\n",
    "    Calculates the decay time of an EDA physiological signal.\n",
    "\n",
    "    Parameters:\n",
    "        signal (np.ndarray): EDA physiological signal.\n",
    "        sampling_rate (int): Sampling rate of the signal in Hz.\n",
    "\n",
    "    Returns:\n",
    "        float: Decay time in seconds.\n",
    "    \"\"\"\n",
    "    peak_amplitude = np.max(signal)\n",
    "    threshold_10 = 0.1 * peak_amplitude\n",
    "    threshold_90 = 0.9 * peak_amplitude\n",
    "\n",
    "    # Find the indices where the signal crosses the 10% and 90% thresholds\n",
    "    index_10 = np.argmax(signal >= threshold_10)\n",
    "    index_90 = np.argmax(signal >= threshold_90)\n",
    "\n",
    "    # Calculate the decay time in seconds\n",
    "    decay_time = (index_10 - index_90) / sampling_rate\n",
    "\n",
    "    return decay_time\n",
    "\n",
    "\n",
    "def extract_features(\n",
    "    data: np.ndarray, sampling_rate: int\n",
    ") -> pd.Series:\n",
    "    \"\"\"\n",
    "    This method extracts hand-crafted features for EDA signals.\n",
    "\n",
    "    Args:\n",
    "        data (ndarray): input array of EDA data\n",
    "        sampling_rate (int): sampling rate of the EDA signal\n",
    "\n",
    "    Returns:\n",
    "        (Series): dataframe with the features extracted as indexes\n",
    "\n",
    "    \"\"\"\n",
    "    if not isinstance(data, np.ndarray):\n",
    "        raise TypeError(\n",
    "            f\"Input data must be a numpy array. Got {type(data)} instead\"\n",
    "        )\n",
    "    min_feat: float = np.min(data)\n",
    "    max_feat: float = np.max(data)\n",
    "    mean_feat: float = np.mean(data)\n",
    "    std_feat: float = np.std(data)\n",
    "    rise_time = calculate_rise_time(data, sampling_rate=sampling_rate)\n",
    "    decay_time = calculate_decay_time(\n",
    "        data, sampling_rate=sampling_rate\n",
    "    )\n",
    "    dynamic_range_feat: float = max_feat - min_feat\n",
    "    # NOTE: we have to cast to float otherwise the linear regression might fail\n",
    "    # with the attribute error \"float object has no attribute 'shape'\".\n",
    "    # See https://stackoverflow.com/questions/53200129/attributeerror-float-object-has-no-attribute-shape-when-using-linregress\n",
    "    slope_feat, _, _, _, _ = linregress(\n",
    "        np.asarray(range(len(data)), dtype=float).astype(float),\n",
    "        data.astype(float),\n",
    "    )\n",
    "    absolute_slope_feat: float = abs(slope_feat)\n",
    "    first_derivative_data: ndarray = gradient(data)\n",
    "    first_derivetive_mean_feat: float = mean(first_derivative_data)\n",
    "    first_derivative_std_feat: float = std(first_derivative_data)\n",
    "\n",
    "    try:\n",
    "        eda_peaks_result: dict[str, Any] = eda_peaks(\n",
    "            data,\n",
    "            sampling_rate=sampling_rate,\n",
    "        )\n",
    "    except ValueError as e:\n",
    "        # NOTE: sometimes, when no peaks are detected, as ValueError is thrown by the\n",
    "        # neurokit2 method. We solve this in a very simplistic way\n",
    "        warn(f\"Could not extract EDA peaks. Reason: {e}\")\n",
    "        eda_peaks_result: tuple[None, dict[str, Any]] = (\n",
    "            None,\n",
    "            dict(SCR_Peaks=[], SCR_Amplitude=[0]),\n",
    "        )\n",
    "    number_of_peaks_feat: int = len(eda_peaks_result[1][\"SCR_Peaks\"])\n",
    "    return pd.Series(\n",
    "        [\n",
    "            min_feat,\n",
    "            max_feat,\n",
    "            mean_feat,\n",
    "            std_feat,\n",
    "            number_of_peaks_feat,\n",
    "            rise_time,\n",
    "            decay_time,\n",
    "            dynamic_range_feat,\n",
    "            slope_feat,\n",
    "            absolute_slope_feat,\n",
    "            first_derivetive_mean_feat,\n",
    "            first_derivative_std_feat,\n",
    "        ],\n",
    "        index=[\n",
    "            \"Min\",\n",
    "            \"Max\",\n",
    "            \"Mean\",\n",
    "            \"Std\",\n",
    "            \"Num Peaks\",\n",
    "            \"Rise Time\",\n",
    "            \"Decay Time\",\n",
    "            \"Dynamic Range\",\n",
    "            \"Slope\",\n",
    "            \"Absolute Slope\",\n",
    "            \"First Derivative Mean\",\n",
    "            \"First Derivative Std\",\n",
    "        ],\n",
    "    )"
   ]
  },
  {
   "cell_type": "markdown",
   "id": "98a39d8e",
   "metadata": {
    "editable": true,
    "slideshow": {
     "slide_type": "subslide"
    },
    "tags": []
   },
   "source": [
    "### Load the EDA data.\n",
    "\n",
    "We are going to load the data as in the previous tutorial. \n",
    "\n",
    "In this tutorial, I have already merged the engagement information in the table."
   ]
  },
  {
   "cell_type": "code",
   "execution_count": 2,
   "id": "6aa3dbe9-6c1a-471b-a020-b296363a4a62",
   "metadata": {
    "editable": true,
    "slideshow": {
     "slide_type": "fragment"
    },
    "tags": []
   },
   "outputs": [
    {
     "name": "stdout",
     "output_type": "stream",
     "text": [
      "Loading time 0.47s\n",
      "EDA data size: 156.98MB\n"
     ]
    }
   ],
   "source": [
    "start = time()\n",
    "eda_data: pd.DataFrame = pd.read_csv(\n",
    "    \"./assignment_data.csv\", index_col=0\n",
    ")\n",
    "print(\"Loading time %.2fs\" % (time() - start))\n",
    "print(f\"EDA data size: %.2fMB\" % (getsizeof(eda_data) / 1e6))\n",
    "# convert the timestamp column to the correct class\n",
    "eda_data[\"timestamp\"] = pd.to_datetime(\n",
    "    eda_data[\"timestamp\"], format=\"mixed\"\n",
    ")"
   ]
  },
  {
   "cell_type": "code",
   "execution_count": 3,
   "id": "cfa84657-0278-40d8-863c-485ad93fb2fa",
   "metadata": {
    "editable": true,
    "slideshow": {
     "slide_type": "subslide"
    },
    "tags": []
   },
   "outputs": [
    {
     "data": {
      "text/html": [
       "<div>\n",
       "<style scoped>\n",
       "    .dataframe tbody tr th:only-of-type {\n",
       "        vertical-align: middle;\n",
       "    }\n",
       "\n",
       "    .dataframe tbody tr th {\n",
       "        vertical-align: top;\n",
       "    }\n",
       "\n",
       "    .dataframe thead th {\n",
       "        text-align: right;\n",
       "    }\n",
       "</style>\n",
       "<table border=\"1\" class=\"dataframe\">\n",
       "  <thead>\n",
       "    <tr style=\"text-align: right;\">\n",
       "      <th></th>\n",
       "      <th>username</th>\n",
       "      <th>session</th>\n",
       "      <th>timestamp</th>\n",
       "      <th>EDA</th>\n",
       "      <th>phasic-EDA</th>\n",
       "      <th>tonic-EDA</th>\n",
       "      <th>engagement</th>\n",
       "    </tr>\n",
       "  </thead>\n",
       "  <tbody>\n",
       "    <tr>\n",
       "      <th>56153</th>\n",
       "      <td>U11</td>\n",
       "      <td>27Feb</td>\n",
       "      <td>2017-02-27 08:32:00.250000+01:00</td>\n",
       "      <td>0.553862</td>\n",
       "      <td>0.599247</td>\n",
       "      <td>1.916187</td>\n",
       "      <td>1.0</td>\n",
       "    </tr>\n",
       "    <tr>\n",
       "      <th>56154</th>\n",
       "      <td>U11</td>\n",
       "      <td>27Feb</td>\n",
       "      <td>2017-02-27 08:32:00.500000+01:00</td>\n",
       "      <td>0.552070</td>\n",
       "      <td>0.563805</td>\n",
       "      <td>1.938148</td>\n",
       "      <td>1.0</td>\n",
       "    </tr>\n",
       "    <tr>\n",
       "      <th>56155</th>\n",
       "      <td>U11</td>\n",
       "      <td>27Feb</td>\n",
       "      <td>2017-02-27 08:32:00.750000+01:00</td>\n",
       "      <td>0.550447</td>\n",
       "      <td>0.535159</td>\n",
       "      <td>1.954521</td>\n",
       "      <td>1.0</td>\n",
       "    </tr>\n",
       "    <tr>\n",
       "      <th>56156</th>\n",
       "      <td>U11</td>\n",
       "      <td>27Feb</td>\n",
       "      <td>2017-02-27 08:32:01+01:00</td>\n",
       "      <td>0.549133</td>\n",
       "      <td>0.514297</td>\n",
       "      <td>1.965503</td>\n",
       "      <td>1.0</td>\n",
       "    </tr>\n",
       "    <tr>\n",
       "      <th>56157</th>\n",
       "      <td>U11</td>\n",
       "      <td>27Feb</td>\n",
       "      <td>2017-02-27 08:32:01.250000+01:00</td>\n",
       "      <td>0.548717</td>\n",
       "      <td>0.505345</td>\n",
       "      <td>1.971287</td>\n",
       "      <td>1.0</td>\n",
       "    </tr>\n",
       "  </tbody>\n",
       "</table>\n",
       "</div>"
      ],
      "text/plain": [
       "      username session                        timestamp       EDA  phasic-EDA  \\\n",
       "56153      U11   27Feb 2017-02-27 08:32:00.250000+01:00  0.553862    0.599247   \n",
       "56154      U11   27Feb 2017-02-27 08:32:00.500000+01:00  0.552070    0.563805   \n",
       "56155      U11   27Feb 2017-02-27 08:32:00.750000+01:00  0.550447    0.535159   \n",
       "56156      U11   27Feb        2017-02-27 08:32:01+01:00  0.549133    0.514297   \n",
       "56157      U11   27Feb 2017-02-27 08:32:01.250000+01:00  0.548717    0.505345   \n",
       "\n",
       "       tonic-EDA  engagement  \n",
       "56153   1.916187         1.0  \n",
       "56154   1.938148         1.0  \n",
       "56155   1.954521         1.0  \n",
       "56156   1.965503         1.0  \n",
       "56157   1.971287         1.0  "
      ]
     },
     "metadata": {},
     "output_type": "display_data"
    }
   ],
   "source": [
    "display(eda_data.head())"
   ]
  },
  {
   "cell_type": "markdown",
   "id": "5a0e8fc3-6e40-4e61-b557-94700172d088",
   "metadata": {
    "editable": true,
    "slideshow": {
     "slide_type": "fragment"
    },
    "tags": []
   },
   "source": [
    "We now have a column called `session`. For each user, data was collected for multiple days."
   ]
  },
  {
   "cell_type": "markdown",
   "id": "f9bc0614-a6f4-4f54-b7c1-f8620b35eedb",
   "metadata": {
    "editable": true,
    "slideshow": {
     "slide_type": "subslide"
    },
    "tags": []
   },
   "source": [
    "## Pre-processing\n",
    "\n",
    "1. Filtering\n",
    "2. Normalization\n",
    "3. Segmentation\n",
    "4. Feature extraction"
   ]
  },
  {
   "cell_type": "markdown",
   "id": "43f6e49f-91cc-4d79-a9d8-729ef9f1fa19",
   "metadata": {
    "editable": true,
    "slideshow": {
     "slide_type": "subslide"
    },
    "tags": []
   },
   "source": [
    "### 1. Filtering"
   ]
  },
  {
   "cell_type": "markdown",
   "id": "875fdb60-48d8-48f2-9593-803a84ce8bef",
   "metadata": {
    "editable": true,
    "slideshow": {
     "slide_type": "fragment"
    },
    "tags": []
   },
   "source": [
    "Like in the previous tutorial, we will fitler using a Butterworth filter of the 1st order, with a cutoff frequency of 0.4Hz."
   ]
  },
  {
   "cell_type": "markdown",
   "id": "f02d0570-561a-4af4-9d0a-bfa65e8fc72a",
   "metadata": {
    "editable": true,
    "slideshow": {
     "slide_type": "fragment"
    },
    "tags": []
   },
   "source": [
    "We are going to apply the filtering on each user and session independently. We're going to use the `groubpy` sintax from `pandas`."
   ]
  },
  {
   "cell_type": "code",
   "execution_count": 4,
   "id": "fdc7f1a1-faff-4b35-abc3-5c6ec5ea671f",
   "metadata": {
    "editable": true,
    "slideshow": {
     "slide_type": "fragment"
    },
    "tags": []
   },
   "outputs": [],
   "source": [
    "import numpy as np\n",
    "\n",
    "eda_data[\"filt-EDA\"] = (\n",
    "    eda_data.groupby([\"username\", \"session\"], group_keys=False)\n",
    "    .apply(\n",
    "        lambda x: butter_lowpass_filter_filtfilt(\n",
    "            data=x[\"EDA\"], fs=4, cutoff=0.4, order=1\n",
    "        )\n",
    "    )\n",
    "    .explode()\n",
    "    .values\n",
    ")"
   ]
  },
  {
   "cell_type": "code",
   "execution_count": 5,
   "id": "855e935c-5e1b-4b33-b303-c7873502f925",
   "metadata": {
    "editable": true,
    "slideshow": {
     "slide_type": "subslide"
    },
    "tags": []
   },
   "outputs": [
    {
     "data": {
      "text/html": [
       "<div>\n",
       "<style scoped>\n",
       "    .dataframe tbody tr th:only-of-type {\n",
       "        vertical-align: middle;\n",
       "    }\n",
       "\n",
       "    .dataframe tbody tr th {\n",
       "        vertical-align: top;\n",
       "    }\n",
       "\n",
       "    .dataframe thead th {\n",
       "        text-align: right;\n",
       "    }\n",
       "</style>\n",
       "<table border=\"1\" class=\"dataframe\">\n",
       "  <thead>\n",
       "    <tr style=\"text-align: right;\">\n",
       "      <th></th>\n",
       "      <th>username</th>\n",
       "      <th>session</th>\n",
       "      <th>timestamp</th>\n",
       "      <th>EDA</th>\n",
       "      <th>phasic-EDA</th>\n",
       "      <th>tonic-EDA</th>\n",
       "      <th>engagement</th>\n",
       "      <th>filt-EDA</th>\n",
       "    </tr>\n",
       "  </thead>\n",
       "  <tbody>\n",
       "    <tr>\n",
       "      <th>56153</th>\n",
       "      <td>U11</td>\n",
       "      <td>27Feb</td>\n",
       "      <td>2017-02-27 08:32:00.250000+01:00</td>\n",
       "      <td>0.553862</td>\n",
       "      <td>0.599247</td>\n",
       "      <td>1.916187</td>\n",
       "      <td>1.0</td>\n",
       "      <td>0.553976</td>\n",
       "    </tr>\n",
       "    <tr>\n",
       "      <th>56154</th>\n",
       "      <td>U11</td>\n",
       "      <td>27Feb</td>\n",
       "      <td>2017-02-27 08:32:00.500000+01:00</td>\n",
       "      <td>0.552070</td>\n",
       "      <td>0.563805</td>\n",
       "      <td>1.938148</td>\n",
       "      <td>1.0</td>\n",
       "      <td>0.552745</td>\n",
       "    </tr>\n",
       "    <tr>\n",
       "      <th>56155</th>\n",
       "      <td>U11</td>\n",
       "      <td>27Feb</td>\n",
       "      <td>2017-02-27 08:32:00.750000+01:00</td>\n",
       "      <td>0.550447</td>\n",
       "      <td>0.535159</td>\n",
       "      <td>1.954521</td>\n",
       "      <td>1.0</td>\n",
       "      <td>0.551813</td>\n",
       "    </tr>\n",
       "    <tr>\n",
       "      <th>56156</th>\n",
       "      <td>U11</td>\n",
       "      <td>27Feb</td>\n",
       "      <td>2017-02-27 08:32:01+01:00</td>\n",
       "      <td>0.549133</td>\n",
       "      <td>0.514297</td>\n",
       "      <td>1.965503</td>\n",
       "      <td>1.0</td>\n",
       "      <td>0.551489</td>\n",
       "    </tr>\n",
       "    <tr>\n",
       "      <th>56157</th>\n",
       "      <td>U11</td>\n",
       "      <td>27Feb</td>\n",
       "      <td>2017-02-27 08:32:01.250000+01:00</td>\n",
       "      <td>0.548717</td>\n",
       "      <td>0.505345</td>\n",
       "      <td>1.971287</td>\n",
       "      <td>1.0</td>\n",
       "      <td>0.552171</td>\n",
       "    </tr>\n",
       "  </tbody>\n",
       "</table>\n",
       "</div>"
      ],
      "text/plain": [
       "      username session                        timestamp       EDA  phasic-EDA  \\\n",
       "56153      U11   27Feb 2017-02-27 08:32:00.250000+01:00  0.553862    0.599247   \n",
       "56154      U11   27Feb 2017-02-27 08:32:00.500000+01:00  0.552070    0.563805   \n",
       "56155      U11   27Feb 2017-02-27 08:32:00.750000+01:00  0.550447    0.535159   \n",
       "56156      U11   27Feb        2017-02-27 08:32:01+01:00  0.549133    0.514297   \n",
       "56157      U11   27Feb 2017-02-27 08:32:01.250000+01:00  0.548717    0.505345   \n",
       "\n",
       "       tonic-EDA  engagement  filt-EDA  \n",
       "56153   1.916187         1.0  0.553976  \n",
       "56154   1.938148         1.0  0.552745  \n",
       "56155   1.954521         1.0  0.551813  \n",
       "56156   1.965503         1.0  0.551489  \n",
       "56157   1.971287         1.0  0.552171  "
      ]
     },
     "metadata": {},
     "output_type": "display_data"
    }
   ],
   "source": [
    "display(eda_data.head())"
   ]
  },
  {
   "cell_type": "markdown",
   "id": "ac5586f1-c9fd-45be-8c3a-298e37dbfd8d",
   "metadata": {
    "editable": true,
    "slideshow": {
     "slide_type": "subslide"
    },
    "tags": []
   },
   "source": [
    "### 2. Normalization"
   ]
  },
  {
   "cell_type": "code",
   "execution_count": 6,
   "id": "67c807c9-c7ea-441a-b89d-ecd99ccbdf8f",
   "metadata": {
    "editable": true,
    "slideshow": {
     "slide_type": "fragment"
    },
    "tags": []
   },
   "outputs": [],
   "source": [
    "eda_data[\"norm-EDA\"] = (\n",
    "    eda_data.groupby([\"username\", \"session\"])\n",
    "    .apply(lambda x: normalize_signals(x[\"filt-EDA\"]))\n",
    "    .explode()\n",
    "    .values\n",
    ")"
   ]
  },
  {
   "cell_type": "code",
   "execution_count": 7,
   "id": "cc682bae-1b08-4f5c-8ec2-3f7f29d141c5",
   "metadata": {
    "editable": true,
    "slideshow": {
     "slide_type": "subslide"
    },
    "tags": []
   },
   "outputs": [
    {
     "data": {
      "text/html": [
       "<div>\n",
       "<style scoped>\n",
       "    .dataframe tbody tr th:only-of-type {\n",
       "        vertical-align: middle;\n",
       "    }\n",
       "\n",
       "    .dataframe tbody tr th {\n",
       "        vertical-align: top;\n",
       "    }\n",
       "\n",
       "    .dataframe thead th {\n",
       "        text-align: right;\n",
       "    }\n",
       "</style>\n",
       "<table border=\"1\" class=\"dataframe\">\n",
       "  <thead>\n",
       "    <tr style=\"text-align: right;\">\n",
       "      <th></th>\n",
       "      <th>username</th>\n",
       "      <th>session</th>\n",
       "      <th>timestamp</th>\n",
       "      <th>EDA</th>\n",
       "      <th>phasic-EDA</th>\n",
       "      <th>tonic-EDA</th>\n",
       "      <th>engagement</th>\n",
       "      <th>filt-EDA</th>\n",
       "      <th>norm-EDA</th>\n",
       "    </tr>\n",
       "  </thead>\n",
       "  <tbody>\n",
       "    <tr>\n",
       "      <th>56153</th>\n",
       "      <td>U11</td>\n",
       "      <td>27Feb</td>\n",
       "      <td>2017-02-27 08:32:00.250000+01:00</td>\n",
       "      <td>0.553862</td>\n",
       "      <td>0.599247</td>\n",
       "      <td>1.916187</td>\n",
       "      <td>1.0</td>\n",
       "      <td>0.553976</td>\n",
       "      <td>0.368789</td>\n",
       "    </tr>\n",
       "    <tr>\n",
       "      <th>56154</th>\n",
       "      <td>U11</td>\n",
       "      <td>27Feb</td>\n",
       "      <td>2017-02-27 08:32:00.500000+01:00</td>\n",
       "      <td>0.552070</td>\n",
       "      <td>0.563805</td>\n",
       "      <td>1.938148</td>\n",
       "      <td>1.0</td>\n",
       "      <td>0.552745</td>\n",
       "      <td>0.367958</td>\n",
       "    </tr>\n",
       "    <tr>\n",
       "      <th>56155</th>\n",
       "      <td>U11</td>\n",
       "      <td>27Feb</td>\n",
       "      <td>2017-02-27 08:32:00.750000+01:00</td>\n",
       "      <td>0.550447</td>\n",
       "      <td>0.535159</td>\n",
       "      <td>1.954521</td>\n",
       "      <td>1.0</td>\n",
       "      <td>0.551813</td>\n",
       "      <td>0.367328</td>\n",
       "    </tr>\n",
       "    <tr>\n",
       "      <th>56156</th>\n",
       "      <td>U11</td>\n",
       "      <td>27Feb</td>\n",
       "      <td>2017-02-27 08:32:01+01:00</td>\n",
       "      <td>0.549133</td>\n",
       "      <td>0.514297</td>\n",
       "      <td>1.965503</td>\n",
       "      <td>1.0</td>\n",
       "      <td>0.551489</td>\n",
       "      <td>0.36711</td>\n",
       "    </tr>\n",
       "    <tr>\n",
       "      <th>56157</th>\n",
       "      <td>U11</td>\n",
       "      <td>27Feb</td>\n",
       "      <td>2017-02-27 08:32:01.250000+01:00</td>\n",
       "      <td>0.548717</td>\n",
       "      <td>0.505345</td>\n",
       "      <td>1.971287</td>\n",
       "      <td>1.0</td>\n",
       "      <td>0.552171</td>\n",
       "      <td>0.36757</td>\n",
       "    </tr>\n",
       "  </tbody>\n",
       "</table>\n",
       "</div>"
      ],
      "text/plain": [
       "      username session                        timestamp       EDA  phasic-EDA  \\\n",
       "56153      U11   27Feb 2017-02-27 08:32:00.250000+01:00  0.553862    0.599247   \n",
       "56154      U11   27Feb 2017-02-27 08:32:00.500000+01:00  0.552070    0.563805   \n",
       "56155      U11   27Feb 2017-02-27 08:32:00.750000+01:00  0.550447    0.535159   \n",
       "56156      U11   27Feb        2017-02-27 08:32:01+01:00  0.549133    0.514297   \n",
       "56157      U11   27Feb 2017-02-27 08:32:01.250000+01:00  0.548717    0.505345   \n",
       "\n",
       "       tonic-EDA  engagement  filt-EDA  norm-EDA  \n",
       "56153   1.916187         1.0  0.553976  0.368789  \n",
       "56154   1.938148         1.0  0.552745  0.367958  \n",
       "56155   1.954521         1.0  0.551813  0.367328  \n",
       "56156   1.965503         1.0  0.551489   0.36711  \n",
       "56157   1.971287         1.0  0.552171   0.36757  "
      ]
     },
     "metadata": {},
     "output_type": "display_data"
    }
   ],
   "source": [
    "display(eda_data.head())"
   ]
  },
  {
   "cell_type": "markdown",
   "id": "c3c60da5-f81b-4fa8-9a07-32bd16073833",
   "metadata": {
    "editable": true,
    "slideshow": {
     "slide_type": "subslide"
    },
    "tags": []
   },
   "source": [
    "### 3. Segmentation & Feature Extraction"
   ]
  },
  {
   "cell_type": "markdown",
   "id": "6e735389",
   "metadata": {
    "editable": true,
    "slideshow": {
     "slide_type": "fragment"
    },
    "tags": []
   },
   "source": [
    "We now need to perform segmenation. We shall do similarly to the first tutorial: first identify the starts and ends of each segment, and then segment based on them."
   ]
  },
  {
   "cell_type": "code",
   "execution_count": 8,
   "id": "7972aafd",
   "metadata": {
    "editable": true,
    "slideshow": {
     "slide_type": "fragment"
    },
    "tags": []
   },
   "outputs": [],
   "source": [
    "window_size_in_sec: int = 10\n",
    "spl_rate: int = 4\n",
    "window_size_in_sampling_rate: int = window_size_in_sec * spl_rate"
   ]
  },
  {
   "cell_type": "code",
   "execution_count": 9,
   "id": "de38fc24-dc15-41ca-88b9-56cd498043b2",
   "metadata": {
    "editable": true,
    "slideshow": {
     "slide_type": "subslide"
    },
    "tags": []
   },
   "outputs": [],
   "source": [
    "def create_segments(\n",
    "    x: pd.DataFrame, window_size_in_sampling_rate: int\n",
    ") -> list[pd.DataFrame]:\n",
    "    starts: pd.Series = x[::window_size_in_sampling_rate][\"timestamp\"]\n",
    "    ends: pd.Series = (\n",
    "        starts\n",
    "        + pd.Timedelta(f\"{window_size_in_sec}s\")\n",
    "        - pd.Timedelta(f\"{1/spl_rate}s\")\n",
    "    )\n",
    "\n",
    "    x = x.set_index(\"timestamp\")\n",
    "    segments: list[pd.DataFrame] = [\n",
    "        x.loc[start:end] for start, end in zip(starts, ends)\n",
    "    ]\n",
    "    return segments"
   ]
  },
  {
   "cell_type": "code",
   "execution_count": 10,
   "id": "56eda312",
   "metadata": {
    "editable": true,
    "slideshow": {
     "slide_type": "subslide"
    },
    "tags": []
   },
   "outputs": [],
   "source": [
    "def segment_and_extract(\n",
    "    x: pd.DataFrame, window_size_in_sampling_rate: int\n",
    ") -> pd.DataFrame:\n",
    "    segments = create_segments(x, window_size_in_sampling_rate)\n",
    "\n",
    "    extracted_features: list[tuple[pd.Series, int]] = [\n",
    "        (\n",
    "            extract_features(\n",
    "                data=segment[\"norm-EDA\"].values,\n",
    "                sampling_rate=spl_rate,\n",
    "            ),\n",
    "            segment[\"engagement\"].mean(),\n",
    "        )\n",
    "        for segment in segments\n",
    "        if segment[\"engagement\"].mean() == 0\n",
    "        or segment[\"engagement\"].mean() == 1\n",
    "    ]\n",
    "\n",
    "    engagement_values = [eng for _, eng in extracted_features]\n",
    "    extracted_features = [feat for feat, _ in extracted_features]\n",
    "    extracted_features = pd.concat(extracted_features, axis=1).T\n",
    "    extracted_features[\"engagement\"] = engagement_values\n",
    "    return extracted_features"
   ]
  },
  {
   "cell_type": "code",
   "execution_count": 11,
   "id": "2987a072",
   "metadata": {
    "editable": true,
    "slideshow": {
     "slide_type": "subslide"
    },
    "tags": []
   },
   "outputs": [],
   "source": [
    "# NOTE: this can take around 10/20 seconds to run\n",
    "eda_features = eda_data.groupby([\"username\", \"session\"]).apply(\n",
    "    lambda x: segment_and_extract(x, window_size_in_sampling_rate)\n",
    ")"
   ]
  },
  {
   "cell_type": "markdown",
   "id": "0c7eabd0",
   "metadata": {
    "editable": true,
    "slideshow": {
     "slide_type": "subslide"
    },
    "tags": []
   },
   "source": [
    "We extracted more features!"
   ]
  },
  {
   "cell_type": "code",
   "execution_count": 12,
   "id": "d1ff93a4",
   "metadata": {
    "editable": true,
    "slideshow": {
     "slide_type": "fragment"
    },
    "tags": []
   },
   "outputs": [
    {
     "data": {
      "text/html": [
       "<div>\n",
       "<style scoped>\n",
       "    .dataframe tbody tr th:only-of-type {\n",
       "        vertical-align: middle;\n",
       "    }\n",
       "\n",
       "    .dataframe tbody tr th {\n",
       "        vertical-align: top;\n",
       "    }\n",
       "\n",
       "    .dataframe thead th {\n",
       "        text-align: right;\n",
       "    }\n",
       "</style>\n",
       "<table border=\"1\" class=\"dataframe\">\n",
       "  <thead>\n",
       "    <tr style=\"text-align: right;\">\n",
       "      <th></th>\n",
       "      <th></th>\n",
       "      <th></th>\n",
       "      <th>Min</th>\n",
       "      <th>Max</th>\n",
       "      <th>Mean</th>\n",
       "      <th>Std</th>\n",
       "      <th>Num Peaks</th>\n",
       "      <th>Rise Time</th>\n",
       "      <th>Decay Time</th>\n",
       "      <th>Dynamic Range</th>\n",
       "      <th>Slope</th>\n",
       "      <th>Absolute Slope</th>\n",
       "      <th>First Derivative Mean</th>\n",
       "      <th>First Derivative Std</th>\n",
       "      <th>engagement</th>\n",
       "    </tr>\n",
       "    <tr>\n",
       "      <th>username</th>\n",
       "      <th>session</th>\n",
       "      <th></th>\n",
       "      <th></th>\n",
       "      <th></th>\n",
       "      <th></th>\n",
       "      <th></th>\n",
       "      <th></th>\n",
       "      <th></th>\n",
       "      <th></th>\n",
       "      <th></th>\n",
       "      <th></th>\n",
       "      <th></th>\n",
       "      <th></th>\n",
       "      <th></th>\n",
       "      <th></th>\n",
       "    </tr>\n",
       "  </thead>\n",
       "  <tbody>\n",
       "    <tr>\n",
       "      <th rowspan=\"5\" valign=\"top\">U11</th>\n",
       "      <th rowspan=\"5\" valign=\"top\">27Feb</th>\n",
       "      <th>0</th>\n",
       "      <td>0.313616</td>\n",
       "      <td>0.415355</td>\n",
       "      <td>0.381506</td>\n",
       "      <td>0.027443</td>\n",
       "      <td>1.0</td>\n",
       "      <td>1.75</td>\n",
       "      <td>-1.75</td>\n",
       "      <td>0.101738</td>\n",
       "      <td>-0.000924</td>\n",
       "      <td>0.000924</td>\n",
       "      <td>-0.001378</td>\n",
       "      <td>0.004805</td>\n",
       "      <td>1.0</td>\n",
       "    </tr>\n",
       "    <tr>\n",
       "      <th>1</th>\n",
       "      <td>0.264152</td>\n",
       "      <td>0.411775</td>\n",
       "      <td>0.309547</td>\n",
       "      <td>0.047527</td>\n",
       "      <td>1.0</td>\n",
       "      <td>1.00</td>\n",
       "      <td>-1.00</td>\n",
       "      <td>0.147624</td>\n",
       "      <td>-0.003155</td>\n",
       "      <td>0.003155</td>\n",
       "      <td>-0.000083</td>\n",
       "      <td>0.009659</td>\n",
       "      <td>1.0</td>\n",
       "    </tr>\n",
       "    <tr>\n",
       "      <th>2</th>\n",
       "      <td>0.320324</td>\n",
       "      <td>0.404522</td>\n",
       "      <td>0.392145</td>\n",
       "      <td>0.017502</td>\n",
       "      <td>1.0</td>\n",
       "      <td>0.75</td>\n",
       "      <td>-0.75</td>\n",
       "      <td>0.084198</td>\n",
       "      <td>0.000406</td>\n",
       "      <td>0.000406</td>\n",
       "      <td>0.001810</td>\n",
       "      <td>0.005487</td>\n",
       "      <td>1.0</td>\n",
       "    </tr>\n",
       "    <tr>\n",
       "      <th>3</th>\n",
       "      <td>0.276819</td>\n",
       "      <td>0.383269</td>\n",
       "      <td>0.343568</td>\n",
       "      <td>0.028917</td>\n",
       "      <td>1.0</td>\n",
       "      <td>0.00</td>\n",
       "      <td>0.00</td>\n",
       "      <td>0.106450</td>\n",
       "      <td>-0.002449</td>\n",
       "      <td>0.002449</td>\n",
       "      <td>-0.002748</td>\n",
       "      <td>0.002238</td>\n",
       "      <td>1.0</td>\n",
       "    </tr>\n",
       "    <tr>\n",
       "      <th>4</th>\n",
       "      <td>0.201607</td>\n",
       "      <td>0.284567</td>\n",
       "      <td>0.256255</td>\n",
       "      <td>0.029752</td>\n",
       "      <td>1.0</td>\n",
       "      <td>0.00</td>\n",
       "      <td>0.00</td>\n",
       "      <td>0.082961</td>\n",
       "      <td>-0.001944</td>\n",
       "      <td>0.001944</td>\n",
       "      <td>-0.001265</td>\n",
       "      <td>0.004755</td>\n",
       "      <td>1.0</td>\n",
       "    </tr>\n",
       "  </tbody>\n",
       "</table>\n",
       "</div>"
      ],
      "text/plain": [
       "                         Min       Max      Mean       Std  Num Peaks  \\\n",
       "username session                                                        \n",
       "U11      27Feb   0  0.313616  0.415355  0.381506  0.027443        1.0   \n",
       "                 1  0.264152  0.411775  0.309547  0.047527        1.0   \n",
       "                 2  0.320324  0.404522  0.392145  0.017502        1.0   \n",
       "                 3  0.276819  0.383269  0.343568  0.028917        1.0   \n",
       "                 4  0.201607  0.284567  0.256255  0.029752        1.0   \n",
       "\n",
       "                    Rise Time  Decay Time  Dynamic Range     Slope  \\\n",
       "username session                                                     \n",
       "U11      27Feb   0       1.75       -1.75       0.101738 -0.000924   \n",
       "                 1       1.00       -1.00       0.147624 -0.003155   \n",
       "                 2       0.75       -0.75       0.084198  0.000406   \n",
       "                 3       0.00        0.00       0.106450 -0.002449   \n",
       "                 4       0.00        0.00       0.082961 -0.001944   \n",
       "\n",
       "                    Absolute Slope  First Derivative Mean  \\\n",
       "username session                                            \n",
       "U11      27Feb   0        0.000924              -0.001378   \n",
       "                 1        0.003155              -0.000083   \n",
       "                 2        0.000406               0.001810   \n",
       "                 3        0.002449              -0.002748   \n",
       "                 4        0.001944              -0.001265   \n",
       "\n",
       "                    First Derivative Std  engagement  \n",
       "username session                                      \n",
       "U11      27Feb   0              0.004805         1.0  \n",
       "                 1              0.009659         1.0  \n",
       "                 2              0.005487         1.0  \n",
       "                 3              0.002238         1.0  \n",
       "                 4              0.004755         1.0  "
      ]
     },
     "execution_count": 12,
     "metadata": {},
     "output_type": "execute_result"
    }
   ],
   "source": [
    "eda_features.head()"
   ]
  },
  {
   "cell_type": "markdown",
   "id": "4ebecf4b",
   "metadata": {
    "editable": true,
    "slideshow": {
     "slide_type": "subslide"
    },
    "tags": []
   },
   "source": [
    "- Rise time: the amount of seconds the signal takes to rise from 10% of the max value to 90% of the max value, in each window. It is the measure of the ability of the signal to respond to fast inputs.\n",
    "- Decay time: opposite of rise time.\n",
    "- Dynamic Range: max - min.\n",
    "- Slope: this is the slope of a line that fits the data.\n",
    "- Absolute slope: absolute value of the slope.\n",
    "- First derivative mean: average of the first derivative\n",
    "- First derivative std: standard deviation of the first derivative\n",
    "\n",
    "We now have a few more features, which can be useful to predict engagement."
   ]
  },
  {
   "cell_type": "markdown",
   "id": "831dbb47",
   "metadata": {
    "editable": true,
    "slideshow": {
     "slide_type": "subslide"
    },
    "tags": []
   },
   "source": [
    "# Statistical Analysis"
   ]
  },
  {
   "cell_type": "markdown",
   "id": "d7b67646",
   "metadata": {
    "editable": true,
    "slideshow": {
     "slide_type": "fragment"
    },
    "tags": []
   },
   "source": [
    "In the previous tutorials we noticed how there were differences in the distributions of features depending on the engagement level."
   ]
  },
  {
   "cell_type": "code",
   "execution_count": 13,
   "id": "cc5f8063",
   "metadata": {
    "editable": true,
    "slideshow": {
     "slide_type": "subslide"
    },
    "tags": []
   },
   "outputs": [
    {
     "data": {
      "image/png": "[encoded data removed]",
      "text/plain": [
       "<Figure size 1000x300 with 2 Axes>"
      ]
     },
     "metadata": {},
     "output_type": "display_data"
    }
   ],
   "source": [
    "import seaborn as sns\n",
    "\n",
    "fig, axs = plt.subplots(1, 2, figsize=(10, 3))\n",
    "sns.histplot(\n",
    "    ax=axs[0],\n",
    "    data=eda_features,\n",
    "    x=\"Min\",\n",
    "    hue=\"engagement\",\n",
    "    stat=\"percent\",\n",
    ")\n",
    "eda_features.plot.box(ax=axs[1], column=\"Min\", by=\"engagement\")\n",
    "for ax in axs:\n",
    "    ax.set_xlabel(\"Min normalized EDA\")\n",
    "plt.show()"
   ]
  },
  {
   "cell_type": "code",
   "execution_count": 14,
   "id": "7e44ebe7",
   "metadata": {
    "editable": true,
    "slideshow": {
     "slide_type": "subslide"
    },
    "tags": []
   },
   "outputs": [
    {
     "data": {
      "image/png": "[encoded data removed]",
      "text/plain": [
       "<Figure size 1000x300 with 2 Axes>"
      ]
     },
     "metadata": {},
     "output_type": "display_data"
    }
   ],
   "source": [
    "import seaborn as sns\n",
    "\n",
    "fig, axs = plt.subplots(1, 2, figsize=(10, 3))\n",
    "sns.histplot(\n",
    "    ax=axs[0],\n",
    "    data=eda_features,\n",
    "    x=\"Rise Time\",\n",
    "    hue=\"engagement\",\n",
    "    stat=\"percent\",\n",
    ")\n",
    "eda_features.plot.box(ax=axs[1], column=\"Rise Time\", by=\"engagement\")\n",
    "for ax in axs:\n",
    "    ax.set_xlabel(\"Min normalized EDA\")\n",
    "plt.show()"
   ]
  },
  {
   "cell_type": "code",
   "execution_count": 15,
   "id": "54eddea0",
   "metadata": {
    "editable": true,
    "slideshow": {
     "slide_type": "subslide"
    },
    "tags": []
   },
   "outputs": [
    {
     "data": {
      "image/png": "[encoded data removed]",
      "text/plain": [
       "<Figure size 1000x300 with 2 Axes>"
      ]
     },
     "metadata": {},
     "output_type": "display_data"
    }
   ],
   "source": [
    "import seaborn as sns\n",
    "\n",
    "fig, axs = plt.subplots(1, 2, figsize=(10, 3))\n",
    "sns.histplot(\n",
    "    ax=axs[0],\n",
    "    data=eda_features,\n",
    "    x=\"First Derivative Mean\",\n",
    "    hue=\"engagement\",\n",
    "    stat=\"percent\",\n",
    ")\n",
    "eda_features.plot.box(\n",
    "    ax=axs[1], column=\"First Derivative Mean\", by=\"engagement\"\n",
    ")\n",
    "for ax in axs:\n",
    "    ax.set_xlabel(\"Min normalized EDA\")\n",
    "plt.show()"
   ]
  },
  {
   "cell_type": "markdown",
   "id": "27cd9fd4",
   "metadata": {
    "editable": true,
    "slideshow": {
     "slide_type": "subslide"
    },
    "tags": []
   },
   "source": [
    "### Let's prove some of these differences statistically."
   ]
  },
  {
   "cell_type": "markdown",
   "id": "bac9d32e",
   "metadata": {
    "editable": true,
    "slideshow": {
     "slide_type": "subslide"
    },
    "tags": []
   },
   "source": [
    "## Statistical Tools"
   ]
  },
  {
   "cell_type": "markdown",
   "id": "dd227c88",
   "metadata": {
    "editable": true,
    "slideshow": {
     "slide_type": "subslide"
    },
    "tags": []
   },
   "source": [
    "### • Correlation\n",
    "\n",
    "Each features can be used to predict the engagement level. We can use the correlation coefficient to quantify this relationship."
   ]
  },
  {
   "cell_type": "markdown",
   "id": "b6acb2de",
   "metadata": {
    "editable": true,
    "slideshow": {
     "slide_type": "fragment"
    },
    "tags": []
   },
   "source": [
    "Pearson's correlation coefficient is defined as: \n",
    "$$\n",
    "r = \\frac{\\sum_{i=1}^{n}(x_i - \\bar{x})(y_i - \\bar{y})}{\\sqrt{\\sum_{i=1}^{n}(x_i - \\bar{x})^2}\\sqrt{\\sum_{i=1}^{n}(y_i - \\bar{y})^2}}\n",
    "$$\n",
    "where $x$ and $y$ are the two variables, and $\\bar{x}$ and $\\bar{y}$ are the means of $x$ and $y$ respectively.\n",
    "\n",
    "In our case, $x$ is the feature, and $y$ is the engagement level."
   ]
  },
  {
   "cell_type": "code",
   "execution_count": 16,
   "id": "4cf73d8f",
   "metadata": {
    "editable": true,
    "slideshow": {
     "slide_type": "subslide"
    },
    "tags": []
   },
   "outputs": [
    {
     "data": {
      "text/plain": [
       "Min                      0.037304\n",
       "Max                      0.052064\n",
       "Mean                     0.046753\n",
       "Std                      0.046014\n",
       "Num Peaks               -0.077486\n",
       "Rise Time                0.023309\n",
       "Decay Time              -0.023309\n",
       "Dynamic Range            0.053914\n",
       "Slope                    0.002547\n",
       "Absolute Slope           0.025082\n",
       "First Derivative Mean    0.001051\n",
       "First Derivative Std     0.066418\n",
       "engagement               1.000000\n",
       "Name: engagement, dtype: float64"
      ]
     },
     "metadata": {},
     "output_type": "display_data"
    }
   ],
   "source": [
    "# perform correlation\n",
    "pearson_cor = eda_features.corr(method=\"pearson\")[\"engagement\"]\n",
    "display(pearson_cor)"
   ]
  },
  {
   "cell_type": "markdown",
   "id": "df009661",
   "metadata": {
    "editable": true,
    "slideshow": {
     "slide_type": "subslide"
    },
    "tags": []
   },
   "source": [
    "We can also calculate other correlation coefficients. Indeed, Pearson's $\\rho$ is limited in capturing only linear dependencies. Another approach is to use rank-based correlation coefficients, which are higher when two samples rise and fall together, even if this relationship is not linear."
   ]
  },
  {
   "cell_type": "markdown",
   "id": "f51efc74",
   "metadata": {
    "editable": true,
    "slideshow": {
     "slide_type": "fragment"
    },
    "tags": []
   },
   "source": [
    "We can use Kendall's $\\tau$ correlation coefficient, defined as:\n",
    "$$\n",
    "\\tau = \\frac{n_c - n_d}{\\frac{1}{2}n(n-1)}\n",
    "$$\n",
    "where $n_c$ is the number of concordant pairs, $n_d$ is the number of discordant pairs, and $n$ is the total number of pairs.\n",
    "The number of concordant pairs is the number of pairs $(x_i, y_i)$ and $(x_j, y_j)$ such that $x_i > x_j$ and $y_i > y_j$, or $x_i < x_j$ and $y_i < y_j$. The number of discordant pairs is the number of pairs $(x_i, y_i)$ and $(x_j, y_j)$ such that $x_i > x_j$ and $y_i < y_j$, or $x_i < x_j$ and $y_i > y_j$."
   ]
  },
  {
   "cell_type": "code",
   "execution_count": 17,
   "id": "5d1fa11b",
   "metadata": {
    "editable": true,
    "slideshow": {
     "slide_type": "subslide"
    },
    "tags": []
   },
   "outputs": [
    {
     "data": {
      "text/plain": [
       "Min                      0.054486\n",
       "Max                      0.064090\n",
       "Mean                     0.061186\n",
       "Std                      0.108042\n",
       "Num Peaks               -0.069479\n",
       "Rise Time                0.041245\n",
       "Decay Time              -0.041245\n",
       "Dynamic Range            0.109881\n",
       "Slope                   -0.001312\n",
       "Absolute Slope           0.083233\n",
       "First Derivative Mean    0.003333\n",
       "First Derivative Std     0.115975\n",
       "engagement               1.000000\n",
       "Name: engagement, dtype: float64"
      ]
     },
     "metadata": {},
     "output_type": "display_data"
    }
   ],
   "source": [
    "# perform correlation\n",
    "kendall_cor = eda_features.corr(method=\"kendall\")[\"engagement\"]\n",
    "display(kendall_cor)"
   ]
  },
  {
   "cell_type": "markdown",
   "id": "c1c4f734",
   "metadata": {
    "editable": true,
    "slideshow": {
     "slide_type": "subslide"
    },
    "tags": []
   },
   "source": [
    "### • T-test\n",
    "\n",
    "We assess if the distribution of a feature is different between the two engagement levels."
   ]
  },
  {
   "cell_type": "markdown",
   "id": "36e40324",
   "metadata": {
    "editable": true,
    "slideshow": {
     "slide_type": "fragment"
    },
    "tags": []
   },
   "source": [
    "The t-test is defined as: \n",
    "$$\n",
    "t = \\frac{\\bar{x_1} - \\bar{x_2}}{\\sqrt{\\frac{s_1^2}{n_1} + \\frac{s_2^2}{n_2}}}\n",
    "$$\n",
    "where $\\bar{x_1}$ and $\\bar{x_2}$ are the means of the two distributions, $s_1$ and $s_2$ are the standard deviations, and $n_1$ and $n_2$ are the number of samples.\n",
    "\n",
    "In our case, $x_1$ and $x_2$ are the two distributions of the feature, each corresponding to a different engagement level."
   ]
  },
  {
   "cell_type": "code",
   "execution_count": 18,
   "id": "5371344c",
   "metadata": {
    "editable": true,
    "slideshow": {
     "slide_type": "subslide"
    },
    "tags": []
   },
   "outputs": [],
   "source": [
    "# perform t-test between features based on the engagement level\n",
    "from scipy.stats import ttest_ind\n",
    "\n",
    "\n",
    "def ttest_features(x: pd.DataFrame, feature: str) -> float:\n",
    "    return ttest_ind(\n",
    "        x[x[\"engagement\"] == 0][feature].values,\n",
    "        x[x[\"engagement\"] == 1][feature].values,\n",
    "    )[1]\n",
    "\n",
    "\n",
    "t_test_results = eda_features.apply(\n",
    "    lambda x: ttest_features(eda_features, x.name), axis=0\n",
    ")\n",
    "t_test_results = pd.DataFrame(t_test_results, columns=[\"p-value\"])\n",
    "t_test_results[\"above_threshold\"] = t_test_results[\"p-value\"] < 0.05"
   ]
  },
  {
   "cell_type": "code",
   "execution_count": 19,
   "id": "2f1b91d8",
   "metadata": {
    "editable": true,
    "slideshow": {
     "slide_type": "subslide"
    },
    "tags": []
   },
   "outputs": [
    {
     "data": {
      "text/html": [
       "<div>\n",
       "<style scoped>\n",
       "    .dataframe tbody tr th:only-of-type {\n",
       "        vertical-align: middle;\n",
       "    }\n",
       "\n",
       "    .dataframe tbody tr th {\n",
       "        vertical-align: top;\n",
       "    }\n",
       "\n",
       "    .dataframe thead th {\n",
       "        text-align: right;\n",
       "    }\n",
       "</style>\n",
       "<table border=\"1\" class=\"dataframe\">\n",
       "  <thead>\n",
       "    <tr style=\"text-align: right;\">\n",
       "      <th></th>\n",
       "      <th>p-value</th>\n",
       "      <th>above_threshold</th>\n",
       "    </tr>\n",
       "  </thead>\n",
       "  <tbody>\n",
       "    <tr>\n",
       "      <th>Min</th>\n",
       "      <td>2.930715e-06</td>\n",
       "      <td>True</td>\n",
       "    </tr>\n",
       "    <tr>\n",
       "      <th>Max</th>\n",
       "      <td>6.675359e-11</td>\n",
       "      <td>True</td>\n",
       "    </tr>\n",
       "    <tr>\n",
       "      <th>Mean</th>\n",
       "      <td>4.598237e-09</td>\n",
       "      <td>True</td>\n",
       "    </tr>\n",
       "    <tr>\n",
       "      <th>Std</th>\n",
       "      <td>8.004228e-09</td>\n",
       "      <td>True</td>\n",
       "    </tr>\n",
       "    <tr>\n",
       "      <th>Num Peaks</th>\n",
       "      <td>2.402343e-22</td>\n",
       "      <td>True</td>\n",
       "    </tr>\n",
       "    <tr>\n",
       "      <th>Rise Time</th>\n",
       "      <td>3.490422e-03</td>\n",
       "      <td>True</td>\n",
       "    </tr>\n",
       "    <tr>\n",
       "      <th>Decay Time</th>\n",
       "      <td>3.490422e-03</td>\n",
       "      <td>True</td>\n",
       "    </tr>\n",
       "    <tr>\n",
       "      <th>Dynamic Range</th>\n",
       "      <td>1.380405e-11</td>\n",
       "      <td>True</td>\n",
       "    </tr>\n",
       "    <tr>\n",
       "      <th>Slope</th>\n",
       "      <td>7.496703e-01</td>\n",
       "      <td>False</td>\n",
       "    </tr>\n",
       "    <tr>\n",
       "      <th>Absolute Slope</th>\n",
       "      <td>1.671659e-03</td>\n",
       "      <td>True</td>\n",
       "    </tr>\n",
       "    <tr>\n",
       "      <th>First Derivative Mean</th>\n",
       "      <td>8.952414e-01</td>\n",
       "      <td>False</td>\n",
       "    </tr>\n",
       "    <tr>\n",
       "      <th>First Derivative Std</th>\n",
       "      <td>8.021227e-17</td>\n",
       "      <td>True</td>\n",
       "    </tr>\n",
       "    <tr>\n",
       "      <th>engagement</th>\n",
       "      <td>0.000000e+00</td>\n",
       "      <td>True</td>\n",
       "    </tr>\n",
       "  </tbody>\n",
       "</table>\n",
       "</div>"
      ],
      "text/plain": [
       "                            p-value  above_threshold\n",
       "Min                    2.930715e-06             True\n",
       "Max                    6.675359e-11             True\n",
       "Mean                   4.598237e-09             True\n",
       "Std                    8.004228e-09             True\n",
       "Num Peaks              2.402343e-22             True\n",
       "Rise Time              3.490422e-03             True\n",
       "Decay Time             3.490422e-03             True\n",
       "Dynamic Range          1.380405e-11             True\n",
       "Slope                  7.496703e-01            False\n",
       "Absolute Slope         1.671659e-03             True\n",
       "First Derivative Mean  8.952414e-01            False\n",
       "First Derivative Std   8.021227e-17             True\n",
       "engagement             0.000000e+00             True"
      ]
     },
     "metadata": {},
     "output_type": "display_data"
    }
   ],
   "source": [
    "display(t_test_results)"
   ]
  },
  {
   "cell_type": "markdown",
   "id": "adc0fe56",
   "metadata": {
    "editable": true,
    "slideshow": {
     "slide_type": "fragment"
    },
    "tags": []
   },
   "source": [
    "We notice how the p-values of the t-test are very small, meaning that the distributions are different."
   ]
  },
  {
   "cell_type": "markdown",
   "id": "01da8a62",
   "metadata": {
    "editable": true,
    "slideshow": {
     "slide_type": "subslide"
    },
    "tags": []
   },
   "source": [
    "### • Effect size"
   ]
  },
  {
   "cell_type": "markdown",
   "id": "514dc8c6",
   "metadata": {
    "editable": true,
    "slideshow": {
     "slide_type": "fragment"
    },
    "tags": []
   },
   "source": [
    "Statistical tests are limited in assessing differences."
   ]
  },
  {
   "cell_type": "markdown",
   "id": "e523d0c8",
   "metadata": {
    "editable": true,
    "slideshow": {
     "slide_type": "fragment"
    },
    "tags": []
   },
   "source": [
    "They estimate if two samples are different, but not **how much** different they are. To solve this, one could just compare averages. However, comparing the difference in averages of various features is not straightforward, since they are in different units.\n",
    "\n",
    "To address this, one can use effect size measures. These are measures that quantify the difference between two distributions, and are unitless."
   ]
  },
  {
   "cell_type": "markdown",
   "id": "e9f065cd",
   "metadata": {
    "editable": true,
    "slideshow": {
     "slide_type": "fragment"
    },
    "tags": []
   },
   "source": [
    "One such measure is Cliff's $\\delta$, defined as:\n",
    "$$\n",
    "\\delta = \\frac{2}{n_1 n_2} \\sum_{i=1}^{n_1} \\sum_{j=1}^{n_2} sign(x_{1i} - x_{2j})\n",
    "$$\n",
    "where $x_{1i}$ and $x_{2j}$ are the samples of the two distributions, and $n_1$ and $n_2$ are the number of samples.\n"
   ]
  },
  {
   "cell_type": "code",
   "execution_count": 20,
   "id": "8cab8c3e",
   "metadata": {
    "editable": true,
    "slideshow": {
     "slide_type": "subslide"
    },
    "tags": []
   },
   "outputs": [],
   "source": [
    "# perform cliff's delta effect size between features\n",
    "from effect_size_analysis.cliff_delta import cliff_delta\n",
    "\n",
    "\n",
    "def calculate_cliff_delta(\n",
    "    x: DataFrame, feature: str, alpha: float = 0.05\n",
    ") -> Series:\n",
    "    return cliff_delta(\n",
    "        s1=x[x[\"engagement\"] == 0][feature].values,\n",
    "        s2=x[x[\"engagement\"] == 1][feature].values,\n",
    "        alpha=alpha,\n",
    "        accurate_ci=False,\n",
    "        raise_nan=False,\n",
    "    )[0]\n",
    "\n",
    "\n",
    "# NOTE: this can take a while to run (around 1/2 minutes)\n",
    "effect_size_results = eda_features.apply(\n",
    "    lambda x: calculate_cliff_delta(eda_features, x.name), axis=0\n",
    ")"
   ]
  },
  {
   "cell_type": "code",
   "execution_count": 21,
   "id": "6d67183c",
   "metadata": {
    "editable": true,
    "slideshow": {
     "slide_type": "subslide"
    },
    "tags": []
   },
   "outputs": [
    {
     "data": {
      "text/plain": [
       "Min                     -0.077813\n",
       "Max                     -0.091528\n",
       "Mean                    -0.087380\n",
       "Std                     -0.154296\n",
       "Num Peaks                0.080385\n",
       "Rise Time               -0.037738\n",
       "Decay Time               0.037738\n",
       "Dynamic Range           -0.156923\n",
       "Slope                    0.001873\n",
       "Absolute Slope          -0.118867\n",
       "First Derivative Mean   -0.004760\n",
       "First Derivative Std    -0.165626\n",
       "engagement              -1.000000\n",
       "dtype: float64"
      ]
     },
     "metadata": {},
     "output_type": "display_data"
    }
   ],
   "source": [
    "display(effect_size_results)"
   ]
  },
  {
   "cell_type": "markdown",
   "id": "3b9561ec",
   "metadata": {
    "editable": true,
    "slideshow": {
     "slide_type": "fragment"
    },
    "tags": []
   },
   "source": [
    "What do they tell?"
   ]
  },
  {
   "cell_type": "markdown",
   "id": "157d363c",
   "metadata": {
    "editable": true,
    "slideshow": {
     "slide_type": "subslide"
    },
    "tags": []
   },
   "source": [
    "When $\\delta < 0$, the distribution of the first sample is smaller than the distribution of the second sample.\n",
    "\n",
    "When $\\delta > 0$, the distribution of the first sample is larger than the distribution of the second sample.\n",
    "\n",
    "When $\\delta = 0$, the distributions are equal.\n",
    "\n",
    "The $\\delta$ values can also be interpreted as follows [1]:\n",
    "\n",
    "• $|\\delta| < 0.11$: negligible &nbsp;&nbsp;• $|\\delta| > 0.11$: small\n",
    "\n",
    "• $|\\delta| > 0.28$: medium &nbsp;&nbsp;&nbsp;• $|\\delta| > 0.43$: large"
   ]
  },
  {
   "cell_type": "code",
   "execution_count": 22,
   "id": "d8d19a1d",
   "metadata": {
    "editable": true,
    "slideshow": {
     "slide_type": "fragment"
    },
    "tags": []
   },
   "outputs": [
    {
     "data": {
      "text/plain": [
       "Min                     -0.077813\n",
       "Max                     -0.091528\n",
       "Mean                    -0.087380\n",
       "Std                     -0.154296\n",
       "Num Peaks                0.080385\n",
       "Rise Time               -0.037738\n",
       "Decay Time               0.037738\n",
       "Dynamic Range           -0.156923\n",
       "Slope                    0.001873\n",
       "Absolute Slope          -0.118867\n",
       "First Derivative Mean   -0.004760\n",
       "First Derivative Std    -0.165626\n",
       "engagement              -1.000000\n",
       "dtype: float64"
      ]
     },
     "metadata": {},
     "output_type": "display_data"
    }
   ],
   "source": [
    "display(effect_size_results)"
   ]
  },
  {
   "cell_type": "markdown",
   "id": "56f6b56f",
   "metadata": {
    "editable": true,
    "slideshow": {
     "slide_type": "slide"
    },
    "tags": []
   },
   "source": [
    "# Machine Learning\n",
    "\n",
    "- We will make a classification of the engagement level\n",
    "- Answer the question: can we predict engagement using EDA data?"
   ]
  },
  {
   "cell_type": "markdown",
   "id": "c154923f",
   "metadata": {
    "editable": true,
    "slideshow": {
     "slide_type": "subslide"
    },
    "tags": []
   },
   "source": [
    "## Validation Paradigms\n",
    "\n",
    "- We need to validate our model\n",
    "- There's 3 main approaches when dealing with physiological data\n",
    "- Use data from the same user and same day at both train and test time.\n",
    "\n",
    "This allows to see if the model can generalize to new inputs from the same user, but not to new users. In this case, we use as validation paradigm **5-FOLD CROSS VALIDATION**.\n",
    "\n",
    "(Cross validation is a technique to validate a model. It consists in splitting the data in 5 parts, and using 4 parts to train the model, and the remaining part to test it. This is repeated 5 times, so that each part is used once as test set. The results are then averaged.)\n",
    "\n",
    "- Train and test with data from different users.\n",
    "\n",
    "In this scenario, we try to see if the model is capable of generalizing to unseen users, which might be the case when deploying our model. In this case, we use as validation paradigm **LEAVE-ONE-USER-OUT CROSS VALIDATION**.\n",
    "\n",
    "- Use data from the same user but different days at both train and test time.\n",
    "\n",
    "This allows to see if the model can generalize to new inputs from the same user, but not to new users. In this case, we use as validation paradigm **LEAVE ONE DAY OUT CROSS VALIDATION**.\n",
    "\n",
    "**For the sake of this tutorial, we will not use Leave One Day Out Cross Validation**"
   ]
  },
  {
   "cell_type": "markdown",
   "id": "98fddba8",
   "metadata": {
    "editable": true,
    "slideshow": {
     "slide_type": "subslide"
    },
    "tags": []
   },
   "source": [
    "# 5-fold cross validation"
   ]
  },
  {
   "cell_type": "markdown",
   "id": "bc65d8f2",
   "metadata": {
    "editable": true,
    "slideshow": {
     "slide_type": "fragment"
    },
    "tags": []
   },
   "source": [
    "Transform our dataframe into a matrix for x and y."
   ]
  },
  {
   "cell_type": "code",
   "execution_count": 23,
   "id": "f6a77e98",
   "metadata": {
    "editable": true,
    "slideshow": {
     "slide_type": "fragment"
    },
    "tags": []
   },
   "outputs": [],
   "source": [
    "X = eda_features.drop(\"engagement\", axis=1).values\n",
    "y = eda_features[\"engagement\"].values"
   ]
  },
  {
   "cell_type": "markdown",
   "id": "c1d5f47e",
   "metadata": {
    "editable": true,
    "slideshow": {
     "slide_type": "fragment"
    },
    "tags": []
   },
   "source": [
    "Train and validate our model using `scikit-learn` and `xgboost`."
   ]
  },
  {
   "cell_type": "markdown",
   "id": "b1f5d77e",
   "metadata": {
    "editable": true,
    "slideshow": {
     "slide_type": "subslide"
    },
    "tags": []
   },
   "source": [
    "### What is XGBoost?"
   ]
  },
  {
   "cell_type": "markdown",
   "id": "bc463842",
   "metadata": {
    "editable": true,
    "slideshow": {
     "slide_type": "subslide"
    },
    "tags": []
   },
   "source": [
    "XGboost is a library for gradient boosting. It is a machine learning technique that produces a prediction model in the form of an ensemble of weak prediction models, typically decision trees. It builds the model in a stage-wise fashion like other boosting methods do, and it generalizes them by allowing optimization of an arbitrary differentiable loss function."
   ]
  },
  {
   "cell_type": "markdown",
   "id": "2395a13c",
   "metadata": {
    "editable": true,
    "slideshow": {
     "slide_type": "subslide"
    },
    "tags": []
   },
   "source": [
    "# BUT"
   ]
  },
  {
   "cell_type": "markdown",
   "id": "39fe7b44",
   "metadata": {
    "editable": true,
    "slideshow": {
     "slide_type": "subslide"
    },
    "tags": []
   },
   "source": [
    "### What validation metric should we use?"
   ]
  },
  {
   "cell_type": "markdown",
   "id": "de68fd9c",
   "metadata": {
    "editable": true,
    "slideshow": {
     "slide_type": "fragment"
    },
    "tags": []
   },
   "source": [
    "Usually, when you perform a binary classification, you use the accuracy as a metric. However, this is not always the best choice. In our case, the data is not evenly distributed between the two classes. "
   ]
  },
  {
   "cell_type": "code",
   "execution_count": 24,
   "id": "e70285a6",
   "metadata": {
    "editable": true,
    "slideshow": {
     "slide_type": "subslide"
    },
    "tags": []
   },
   "outputs": [
    {
     "data": {
      "text/plain": [
       "<Axes: >"
      ]
     },
     "execution_count": 24,
     "metadata": {},
     "output_type": "execute_result"
    },
    {
     "data": {
      "image/png": "[encoded data removed]",
      "text/plain": [
       "<Figure size 800x550 with 1 Axes>"
      ]
     },
     "metadata": {},
     "output_type": "display_data"
    }
   ],
   "source": [
    "eda_data[\"engagement\"].hist()"
   ]
  },
  {
   "cell_type": "code",
   "execution_count": 25,
   "metadata": {},
   "outputs": [
    {
     "data": {
      "image/png": "[encoded data removed]",
      "text/plain": [
       "<Figure size 800x550 with 1 Axes>"
      ]
     },
     "metadata": {},
     "output_type": "display_data"
    }
   ],
   "source": [
    "data = eda_data[\"engagement\"].value_counts()\n",
    "labels = [\"not engaged \\n\\n\" + str(data[0]), \"engaged\\n\\n\" + str(data[1])]\n",
    "\n",
    "\n",
    "plt.pie(data, labels=labels, autopct=\"%1.2f%%\", shadow=True,\n",
    "        startangle=90, explode=(0.07, 0), textprops={'fontsize': 14},\n",
    "        wedgeprops={'linewidth': 1, 'edgecolor': 'black'})\n",
    "\n",
    "plt.show()"
   ]
  },
  {
   "cell_type": "code",
   "execution_count": 26,
   "metadata": {},
   "outputs": [
    {
     "data": {
      "text/plain": [
       "(627973, 9)"
      ]
     },
     "execution_count": 26,
     "metadata": {},
     "output_type": "execute_result"
    }
   ],
   "source": [
    "eda_data.shape"
   ]
  },
  {
   "cell_type": "markdown",
   "id": "7231a4e6",
   "metadata": {
    "editable": true,
    "slideshow": {
     "slide_type": "fragment"
    },
    "tags": []
   },
   "source": [
    "We have more samples from where people are not engaged, than when they are engaged. This is called **class imbalance**."
   ]
  },
  {
   "cell_type": "markdown",
   "id": "a7116015",
   "metadata": {
    "editable": true,
    "slideshow": {
     "slide_type": "subslide"
    },
    "tags": []
   },
   "source": [
    "While there are many strategies to deal with this, e.g., resampling, we will simply choose a validation metric that can account for imbalanced: **balanced accuracy**, defined as:\n",
    "$$\n",
    "\\frac{1}{2} \\left( \\frac{TP}{TP + FN} + \\frac{TN}{TN + FP} \\right)\n",
    "$$\n",
    "where $TP$ is the number of true positives, $TN$ is the number of true negatives, $FP$ is the number of false positives, and $FN$ is the number of false negatives."
   ]
  },
  {
   "cell_type": "markdown",
   "id": "3e0a31a7",
   "metadata": {
    "editable": true,
    "slideshow": {
     "slide_type": "fragment"
    },
    "tags": []
   },
   "source": [
    "We should also compare our results to a baseline classifier, i.e., a classifier which makes random guesses."
   ]
  },
  {
   "cell_type": "code",
   "execution_count": 53,
   "id": "367e9fa7",
   "metadata": {
    "editable": true,
    "slideshow": {
     "slide_type": "subslide"
    },
    "tags": []
   },
   "outputs": [],
   "source": [
    "groups: np.ndarray = eda_features.index.get_level_values(0).values"
   ]
  },
  {
   "cell_type": "code",
   "execution_count": 47,
   "id": "7d8b4efa",
   "metadata": {
    "editable": true,
    "slideshow": {
     "slide_type": "fragment"
    },
    "tags": []
   },
   "outputs": [],
   "source": [
    "# load xgboost and cross validation\n",
    "from xgboost import XGBClassifier\n",
    "from sklearn.model_selection import cross_validate, cross_val_score\n",
    "from sklearn.model_selection import StratifiedKFold\n",
    "\n",
    "# perform cross validation with xgboost and balanced accuracy\n",
    "xgb = XGBClassifier(random_state=42)\n",
    "kf = StratifiedKFold(n_splits=5, shuffle=True, random_state=42)\n",
    "\n",
    "cv_results_xgboost = cross_validate(\n",
    "    xgb,\n",
    "    X.reshape(X.shape[0], -1),\n",
    "    y,\n",
    "    cv=kf,\n",
    "    scoring=\"balanced_accuracy\",\n",
    "    return_train_score=True,\n",
    ")"
   ]
  },
  {
   "cell_type": "markdown",
   "id": "e57b8d32",
   "metadata": {
    "editable": true,
    "slideshow": {
     "slide_type": "fragment"
    },
    "tags": []
   },
   "source": [
    "Why do we specify the groups? Since we are performing a **Stratified 5-fold CV**."
   ]
  },
  {
   "cell_type": "markdown",
   "id": "d2b385f9",
   "metadata": {
    "editable": true,
    "slideshow": {
     "slide_type": "fragment"
    },
    "tags": []
   },
   "source": [
    "**Stratified** means that the splits are made so that the distribution of the groups is the same in the train and test sets."
   ]
  },
  {
   "cell_type": "code",
   "execution_count": 49,
   "id": "ef3a81f1",
   "metadata": {
    "editable": true,
    "slideshow": {
     "slide_type": "subslide"
    },
    "tags": []
   },
   "outputs": [],
   "source": [
    "# load random classifier and cross validation\n",
    "from sklearn.model_selection import cross_validate\n",
    "from sklearn.dummy import DummyClassifier\n",
    "from sklearn.model_selection import StratifiedKFold\n",
    "\n",
    "# perform cross validation with xgboost and balanced accuracy\n",
    "model = DummyClassifier(strategy=\"uniform\", random_state=42)\n",
    "kf = StratifiedKFold(n_splits=5, shuffle=True, random_state=42)\n",
    "\n",
    "cv_results_dummy = cross_validate(\n",
    "    model,\n",
    "    X.reshape(X.shape[0], -1),\n",
    "    y,\n",
    "    cv=kf,\n",
    "    scoring=\"balanced_accuracy\",\n",
    "    return_train_score=True,\n",
    ")"
   ]
  },
  {
   "cell_type": "code",
   "execution_count": 51,
   "id": "69107280",
   "metadata": {
    "editable": true,
    "slideshow": {
     "slide_type": "subslide"
    },
    "tags": []
   },
   "outputs": [
    {
     "name": "stdout",
     "output_type": "stream",
     "text": [
      "Average validation score of XGBoost: 49.53 ± 0.92 %\n",
      "Average validation score of Dummy: 50.24 ± 0.75 %\n"
     ]
    }
   ],
   "source": [
    "print(\n",
    "    f\"Average validation score of XGBoost: %.2f ± %.2f %%\"\n",
    "    % (\n",
    "        100 * np.mean(cv_results_xgboost[\"test_score\"]),\n",
    "        100 * np.std(cv_results_xgboost[\"test_score\"]),\n",
    "    )\n",
    ")\n",
    "print(\n",
    "    f\"Average validation score of Dummy: %.2f ± %.2f %%\"\n",
    "    % (\n",
    "        100 * np.mean(cv_results_dummy[\"test_score\"]),\n",
    "        100 * np.std(cv_results_dummy[\"test_score\"]),\n",
    "    )\n",
    ")"
   ]
  },
  {
   "cell_type": "markdown",
   "id": "5de11ee6",
   "metadata": {
    "editable": true,
    "slideshow": {
     "slide_type": "fragment"
    },
    "tags": []
   },
   "source": [
    "We are doing better than random! But not much better."
   ]
  },
  {
   "cell_type": "markdown",
   "id": "0b60a731",
   "metadata": {
    "editable": true,
    "slideshow": {
     "slide_type": "subslide"
    },
    "tags": []
   },
   "source": [
    "### Why?"
   ]
  },
  {
   "cell_type": "markdown",
   "id": "a995c85a",
   "metadata": {
    "editable": true,
    "slideshow": {
     "slide_type": "fragment"
    },
    "tags": []
   },
   "source": [
    "1. Limited samples used for this tutorial.\n",
    "2. Difficult task.\n",
    "\n",
    "In our experiments, using much more data, we achieve around 89% balanced accuracy in this setting."
   ]
  },
  {
   "cell_type": "markdown",
   "id": "85fb9e44",
   "metadata": {
    "editable": true,
    "slideshow": {
     "slide_type": "subslide"
    },
    "tags": []
   },
   "source": [
    "# Leave One Subject Out Cross Validation"
   ]
  },
  {
   "cell_type": "markdown",
   "id": "4a7dea66",
   "metadata": {
    "editable": true,
    "slideshow": {
     "slide_type": "fragment"
    },
    "tags": []
   },
   "source": [
    "We need to define our groups, to perform this cross validation."
   ]
  },
  {
   "cell_type": "code",
   "execution_count": 55,
   "id": "93ddf887",
   "metadata": {
    "editable": true,
    "slideshow": {
     "slide_type": "subslide"
    },
    "tags": []
   },
   "outputs": [],
   "source": [
    "from xgboost import XGBClassifier\n",
    "from sklearn.model_selection import cross_validate, LeaveOneGroupOut\n",
    "from sklearn.dummy import DummyClassifier\n",
    "from sklearn.utils import shuffle\n",
    "\n",
    "X = eda_features.drop(\"engagement\", axis=1).values\n",
    "y = eda_features[\"engagement\"].values\n",
    "\n",
    "groups: np.ndarray = eda_features.index.get_level_values(0).values\n",
    "\n",
    "\n",
    "X, y, groups = shuffle(X, y, groups, random_state=42)\n",
    "\n",
    "# perform cross validation with xgboost and balanced accuracy\n",
    "xgb = XGBClassifier(random_state=42)\n",
    "baseline = DummyClassifier(strategy=\"uniform\", random_state=42)\n",
    "groups_instance = LeaveOneGroupOut()\n",
    "cv_results_xgboost = cross_validate(\n",
    "    xgb,\n",
    "    X,\n",
    "    y,\n",
    "    cv=groups_instance.split(X, y, groups=groups),\n",
    "    scoring=\"balanced_accuracy\",\n",
    "    return_train_score=True,\n",
    ")\n",
    "cv_results_dummy = cross_validate(\n",
    "    baseline,\n",
    "    X,\n",
    "    y,\n",
    "    cv=groups_instance.split(X, y, groups=groups),\n",
    "    scoring=\"balanced_accuracy\",\n",
    "    return_train_score=True,\n",
    ")"
   ]
  },
  {
   "cell_type": "code",
   "execution_count": 57,
   "id": "f75a4c28",
   "metadata": {
    "editable": true,
    "slideshow": {
     "slide_type": "subslide"
    },
    "tags": []
   },
   "outputs": [
    {
     "name": "stdout",
     "output_type": "stream",
     "text": [
      "Average validation score of XGBoost: 41.92 ± 16.32 %\n",
      "Average validation score of Dummy: 49.83 ± 1.21 %\n"
     ]
    }
   ],
   "source": [
    "print(\n",
    "    f\"Average validation score of XGBoost: %.2f ± %.2f %%\"\n",
    "    % (\n",
    "        100 * np.mean(cv_results_xgboost[\"test_score\"]),\n",
    "        100 * np.std(cv_results_xgboost[\"test_score\"]),\n",
    "    )\n",
    ")\n",
    "print(\n",
    "    f\"Average validation score of Dummy: %.2f ± %.2f %%\"\n",
    "    % (\n",
    "        100 * np.mean(cv_results_dummy[\"test_score\"]),\n",
    "        100 * np.std(cv_results_dummy[\"test_score\"]),\n",
    "    )\n",
    ")"
   ]
  },
  {
   "cell_type": "markdown",
   "id": "bb024544",
   "metadata": {
    "editable": true,
    "slideshow": {
     "slide_type": "fragment"
    },
    "tags": []
   },
   "source": [
    "In this case, we are not doing better than random. Why?"
   ]
  },
  {
   "cell_type": "markdown",
   "id": "0484a55b",
   "metadata": {
    "editable": true,
    "slideshow": {
     "slide_type": "fragment"
    },
    "tags": []
   },
   "source": [
    "**Interpersonal variability**: people are different, and this is reflected in their physiological data."
   ]
  },
  {
   "cell_type": "markdown",
   "id": "ec758168",
   "metadata": {
    "editable": true,
    "slideshow": {
     "slide_type": "fragment"
    },
    "tags": []
   },
   "source": [
    "As such, right now, it is possible to predict engagement **only** if you have data from the same user."
   ]
  },
  {
   "cell_type": "markdown",
   "id": "94ac146f-e223-4021-9c93-6032a4aea40a",
   "metadata": {
    "editable": true,
    "slideshow": {
     "slide_type": "slide"
    },
    "tags": []
   },
   "source": [
    "# References\n",
    "\n",
    "[1] Vargha, A. and Delaney, H.D., 2000. A critique and improvement of the CL common language effect size statistics of McGraw and Wong. Journal of Educational and Behavioral Statistics, 25(2), pp.101-132.\n",
    "\n",
    "[3] Di Lascio, E., Gashi, S. and Santini, S., 2018. Unobtrusive assessment of students' emotional engagement during lectures using electrodermal activity sensors. Proceedings of the ACM on Interactive, Mobile, Wearable and Ubiquitous Technologies, 2(3), pp.1-21."
   ]
  },
  {
   "cell_type": "markdown",
   "metadata": {},
   "source": [
    "# Assignment 04"
   ]
  },
  {
   "cell_type": "markdown",
   "metadata": {},
   "source": [
    "## ES 0 & 2"
   ]
  },
  {
   "cell_type": "code",
   "execution_count": 59,
   "metadata": {},
   "outputs": [
    {
     "name": "stdout",
     "output_type": "stream",
     "text": [
      "\n",
      "XGBoost\n",
      "\t5-Fold: 0.71s\n",
      "\tLeave One Group Out: 1.66s\n",
      "\n",
      "Dummy\n",
      "\t5-Fold: 0.04s\n",
      "\tLeave One Group Out: 0.10s\n"
     ]
    }
   ],
   "source": [
    "from xgboost import XGBClassifier\n",
    "from sklearn.model_selection import cross_validate, LeaveOneGroupOut\n",
    "from sklearn.dummy import DummyClassifier\n",
    "from sklearn.model_selection import StratifiedKFold\n",
    "from sklearn.utils import shuffle\n",
    "\n",
    "# import models\n",
    "models = {\n",
    "    \"XGBoost\": XGBClassifier(random_state=42),\n",
    "    \"Dummy\": DummyClassifier(strategy=\"uniform\", random_state=42)\n",
    "}\n",
    "\n",
    "# define k-folds\n",
    "kf = StratifiedKFold(n_splits=5, shuffle=True, random_state=42)\n",
    "\n",
    "# split in X e y\n",
    "X = eda_features.drop(\"engagement\", axis=1).values\n",
    "y = eda_features[\"engagement\"].values\n",
    "\n",
    "# groups\n",
    "groups: np.ndarray = eda_features.index.get_level_values(0).values\n",
    "groups_instance = LeaveOneGroupOut()\n",
    "\n",
    "# shuffle\n",
    "X, y, groups = shuffle(X, y, groups, random_state=42)\n",
    "\n",
    "# perform cross validation with xgboost and balanced accuracy\n",
    "cv_results = dict()\n",
    "cv_results[\"5-Fold\"] = dict()\n",
    "cv_results[\"Leave One Group Out\"] = dict()\n",
    "for model_name, model in models.items():\n",
    "    print(f\"\\n{model_name}\")\n",
    "    time1 = time()\n",
    "    cv_results[\"5-Fold\"][model_name] = cross_validate(\n",
    "        model,\n",
    "        X.reshape(X.shape[0], -1),\n",
    "        y,\n",
    "        cv=kf,\n",
    "        scoring=\"balanced_accuracy\",\n",
    "        return_train_score=True,\n",
    "    )\n",
    "    time2 = time()\n",
    "    print(f\"\\t5-Fold: {time2-time1:.2f}s\")\n",
    "    cv_results[\"Leave One Group Out\"][model_name] = cross_validate(\n",
    "        model,\n",
    "        X,\n",
    "        y,\n",
    "        cv=groups_instance.split(X, y, groups=groups),\n",
    "        scoring=\"balanced_accuracy\",\n",
    "        return_train_score=True,\n",
    "    )\n",
    "    print(f\"\\tLeave One Group Out: {time()-time2:.2f}s\")"
   ]
  },
  {
   "cell_type": "markdown",
   "metadata": {},
   "source": [
    "## Es 0"
   ]
  },
  {
   "cell_type": "code",
   "execution_count": 60,
   "metadata": {},
   "outputs": [
    {
     "name": "stdout",
     "output_type": "stream",
     "text": [
      "\n",
      "\n",
      "Cross Validation: 5-Fold\n",
      "\n",
      "\tAverage validation score of XGBoost: 63.86 ± 0.52 %\n",
      "\tAverage validation score of Dummy: 49.96 ± 0.89 %\n",
      "\n",
      "\n",
      "Cross Validation: Leave One Group Out\n",
      "\n",
      "\tAverage validation score of XGBoost: 41.92 ± 16.32 %\n",
      "\tAverage validation score of Dummy: 49.83 ± 1.21 %\n"
     ]
    }
   ],
   "source": [
    "for method in cv_results:\n",
    "    print(f\"\\n\\nCross Validation: {method}\\n\")\n",
    "    for model in cv_results[method]:\n",
    "        print(\n",
    "            f\"\\tAverage validation score of {model}: %.2f ± %.2f %%\"\n",
    "            % (\n",
    "                100 * np.mean(cv_results[method][model][\"test_score\"]),\n",
    "                100 * np.std(cv_results[method][model][\"test_score\"]),\n",
    "            ))"
   ]
  },
  {
   "cell_type": "markdown",
   "metadata": {},
   "source": [
    "## ES 2"
   ]
  },
  {
   "cell_type": "code",
   "execution_count": 65,
   "metadata": {},
   "outputs": [
    {
     "name": "stdout",
     "output_type": "stream",
     "text": [
      "\n",
      "\n",
      "Model: XGBoost\n",
      "\n",
      "\t· fit_time:\t 1.0 \t-\t <α: False\n",
      "\t· score_time:\t 1.0 \t-\t <α: False\n",
      "\t· test_score:\t 1.0 \t-\t <α: False\n",
      "\t· train_score:\t 1.0 \t-\t <α: False\n",
      "\n",
      "\n",
      "Model: Dummy\n",
      "\n",
      "\t· fit_time:\t 1.0 \t-\t <α: False\n",
      "\t· score_time:\t 1.0 \t-\t <α: False\n",
      "\t· test_score:\t 1.0 \t-\t <α: False\n",
      "\t· train_score:\t 1.0 \t-\t <α: False\n",
      "\n",
      "\n",
      "------------------------------------\n",
      "\n",
      "\n",
      "Cross Validation: 5-Fold\n",
      "\n",
      "\t· fit_time:\t 2.7367487886115645e-06 - <α: True\n",
      "\t· score_time:\t 0.003452796874437841 - <α: True\n",
      "\t· test_score:\t 3.802219877475795e-09 - <α: True\n",
      "\t· train_score:\t 2.0179689412406354e-14 - <α: True\n",
      "\n",
      "\n",
      "Cross Validation: Leave One Group Out\n",
      "\n",
      "\t· fit_time:\t 1.5344430759266383e-35 - <α: True\n",
      "\t· score_time:\t 9.446004105564297e-06 - <α: True\n",
      "\t· test_score:\t 0.10687897627717105 - <α: False\n",
      "\t· train_score:\t 9.287071885477432e-36 - <α: True\n"
     ]
    }
   ],
   "source": [
    "from scipy.stats import ttest_ind\n",
    "\n",
    "for method in cv_results[\"5-Fold\"]:\n",
    "    print(f\"\\n\\nModel: {method}\\n\")\n",
    "    for score in cv_results[\"5-Fold\"][method]:\n",
    "        t_test = ttest_ind(cv_results[\"5-Fold\"][method][score], cv_results[\"Leave One Group Out\"][method][score])\n",
    "        print(f\"\\t\\u00b7 {score}:\\t {round(t_test[1], 7)} \\t-\\t <\\u03b1: {t_test[1] < 0.05}\")\n",
    "\n",
    "print(\"\\n\\n------------------------------------\")\n",
    "\n",
    "for cv in cv_results:\n",
    "    print(f\"\\n\\nCross Validation: {cv}\\n\")\n",
    "    for score in cv_results[cv][\"XGBoost\"]:\n",
    "        t_test = ttest_ind(cv_results[cv][\"XGBoost\"][score], cv_results[cv][\"Dummy\"][score])\n",
    "        print(f\"\\t\\u00b7 {score}:\\t {t_test[1]} - <\\u03b1: {t_test[1] < 0.05}\")   "
   ]
  },
  {
   "cell_type": "markdown",
   "metadata": {},
   "source": [
    "## Es1 & Es3"
   ]
  },
  {
   "cell_type": "code",
   "execution_count": 66,
   "metadata": {},
   "outputs": [
    {
     "name": "stdout",
     "output_type": "stream",
     "text": [
      "User: U18, Session: 8March\n",
      "Number of samples: 552\n",
      "\n",
      "XGBoost\n",
      "\t5-Fold: 0.74s\n",
      "\tLeave One Group Out: 1.68s\n",
      "\n",
      "Dummy\n",
      "\t5-Fold: 0.03s\n",
      "\tLeave One Group Out: 0.10s\n",
      "\n",
      "SVM\n",
      "\t5-Fold: 45.96s\n",
      "\tLeave One Group Out: 145.03s\n",
      "\n",
      "Random Forest\n",
      "\t5-Fold: 12.78s\n",
      "\tLeave One Group Out: 40.22s\n",
      "\n",
      "Naive Bayes\n",
      "\t5-Fold: 0.05s\n",
      "\tLeave One Group Out: 0.13s\n"
     ]
    }
   ],
   "source": [
    "from xgboost import XGBClassifier\n",
    "from sklearn.model_selection import cross_validate, cross_val_score\n",
    "from sklearn.dummy import DummyClassifier\n",
    "from sklearn.svm import SVC\n",
    "from sklearn.ensemble import RandomForestClassifier\n",
    "from sklearn.naive_bayes import GaussianNB\n",
    "from sklearn.model_selection import StratifiedKFold\n",
    "from sklearn.utils import shuffle\n",
    "\n",
    "\n",
    "models = {\n",
    "    \"XGBoost\": XGBClassifier(random_state=42),\n",
    "    \"Dummy\": DummyClassifier(strategy=\"uniform\", random_state=42),\n",
    "    \"SVM\": SVC(random_state=42),\n",
    "    \"Random Forest\": RandomForestClassifier(random_state=42),\n",
    "    \"Naive Bayes\": GaussianNB(),\n",
    "}\n",
    "\n",
    "# select a random user & a random session of the user\n",
    "np.random.seed(42)\n",
    "user = np.random.choice(eda_features.index.get_level_values(0).unique())\n",
    "session = np.random.choice(\n",
    "    eda_features.loc[user].index.get_level_values(0).unique()\n",
    ")\n",
    "\n",
    "print(f\"User: {user}, Session: {session}\")\n",
    "print(f\"Number of samples: {len(eda_features.loc[user, session])}\")\n",
    "\n",
    "# split in X e y\n",
    "X = eda_features[\n",
    "    ~((eda_features.index.get_level_values(0) == user) & (eda_features.index.get_level_values(1) == session))\n",
    "].drop(\"engagement\", axis=1).values\n",
    "y = eda_features[\n",
    "    ~((eda_features.index.get_level_values(0) == user) & (eda_features.index.get_level_values(1) == session))\n",
    "][\"engagement\"].values\n",
    "\n",
    "\n",
    "# groups\n",
    "groups: np.ndarray = eda_features[\n",
    "    ~((eda_features.index.get_level_values(0) == user) & (eda_features.index.get_level_values(1) == session))\n",
    "].index.get_level_values(0).values\n",
    "\n",
    "kf = StratifiedKFold(n_splits=5, shuffle=True, random_state=42)\n",
    "X_s, y_s, groups_s = shuffle(X, y, groups, random_state=42)\n",
    "\n",
    "cv_results = {\n",
    "    \"5-Fold\": dict(),\n",
    "    \"Leave One Group Out\": dict()\n",
    "}\n",
    "\n",
    "groups_instance = LeaveOneGroupOut()\n",
    "\n",
    "# shuffle\n",
    "\n",
    "# perform cross validation with xgboost and balanced accuracy\n",
    "for model_name, model in models.items():\n",
    "    print(f\"\\n{model_name}\")\n",
    "    time1 = time()\n",
    "    cv_results[\"5-Fold\"][model_name] = cross_validate(\n",
    "        model,\n",
    "        X.reshape(X.shape[0], -1),\n",
    "        y,\n",
    "        cv=kf,\n",
    "        scoring=\"balanced_accuracy\",\n",
    "        return_train_score=True,\n",
    "    )\n",
    "    time2 = time()\n",
    "    print(f\"\\t5-Fold: {time2-time1:.2f}s\")\n",
    "    cv_results[\"Leave One Group Out\"][model_name] = cross_validate(\n",
    "        model,\n",
    "        X_s,\n",
    "        y_s,\n",
    "        cv=groups_instance.split(X_s, y_s, groups=groups_s),\n",
    "        scoring=\"balanced_accuracy\",\n",
    "        return_train_score=True,\n",
    "    )\n",
    "    print(f\"\\tLeave One Group Out: {time()-time2:.2f}s\")\n"
   ]
  },
  {
   "cell_type": "code",
   "execution_count": 70,
   "metadata": {},
   "outputs": [
    {
     "name": "stdout",
     "output_type": "stream",
     "text": [
      "[('XGBoost', 'Dummy'), ('XGBoost', 'SVM'), ('XGBoost', 'Random Forest'), ('XGBoost', 'Naive Bayes'), ('Dummy', 'SVM'), ('Dummy', 'Random Forest'), ('Dummy', 'Naive Bayes'), ('SVM', 'Random Forest'), ('SVM', 'Naive Bayes'), ('Random Forest', 'Naive Bayes')]\n"
     ]
    }
   ],
   "source": [
    "# creami una lista di tutte le coppie di modelli usati \n",
    "# (es. [(\"XGBoost\", \"Dummy\"), (\"XGBoost\", \"SVM\"), ...])\n",
    "\n",
    "couples = []\n",
    "\n",
    "mod = list(models.keys())\n",
    "\n",
    "for i in range(len(mod)):\n",
    "    for j in range(i+1, len(mod)):\n",
    "        couples.append((mod[i], mod[j]))\n",
    "\n",
    "print(couples)"
   ]
  },
  {
   "cell_type": "markdown",
   "metadata": {},
   "source": [
    "## Exercise 1"
   ]
  },
  {
   "cell_type": "code",
   "execution_count": null,
   "metadata": {},
   "outputs": [
    {
     "name": "stdout",
     "output_type": "stream",
     "text": [
      "\n",
      "\n",
      "Cross Validation: 5-fold\n",
      "\n",
      "\tAverage validation score of XGBoost: 64.75 ± 1.11 %\n",
      "\tAverage validation score of Dummy: 50.72 ± 1.02 %\n",
      "\n",
      "\n",
      "Cross Validation: Leave One Group Out\n",
      "\n",
      "\tAverage validation score of XGBoost: 42.16 ± 14.98 %\n",
      "\tAverage validation score of Dummy: 49.47 ± 1.04 %\n"
     ]
    }
   ],
   "source": [
    "for method in cv_results:\n",
    "    print(f\"\\n\\nCross Validation: {method}\\n\")\n",
    "    for model in list(cv_results[method].keys())[:2]:\n",
    "        print(\n",
    "            f\"\\tAverage validation score of {model}: %.2f ± %.2f %%\"\n",
    "            % (\n",
    "                100 * np.mean(cv_results[method][model][\"test_score\"]),\n",
    "                100 * np.std(cv_results[method][model][\"test_score\"]),\n",
    "            ))"
   ]
  },
  {
   "cell_type": "markdown",
   "metadata": {},
   "source": [
    "## Exercise 3"
   ]
  },
  {
   "cell_type": "code",
   "execution_count": null,
   "metadata": {},
   "outputs": [
    {
     "name": "stdout",
     "output_type": "stream",
     "text": [
      "\n",
      "\n",
      "Cross Validation: 5-Fold\n",
      "\n",
      "\tAverage validation score of XGBoost: 64.75 ± 1.11 %\n",
      "\tAverage validation score of Dummy: 50.72 ± 1.02 %\n",
      "\tAverage validation score of SVM: 50.99 ± 0.27 %\n",
      "\tAverage validation score of Random Forest: 64.61 ± 1.41 %\n",
      "\tAverage validation score of Naive Bayes: 55.12 ± 1.18 %\n",
      "\n",
      "\n",
      "Cross Validation: Leave One Group Out\n",
      "\n",
      "\tAverage validation score of XGBoost: 42.16 ± 14.98 %\n",
      "\tAverage validation score of Dummy: 49.47 ± 1.04 %\n",
      "\tAverage validation score of SVM: 35.05 ± 28.55 %\n",
      "\tAverage validation score of Random Forest: 41.96 ± 15.39 %\n",
      "\tAverage validation score of Naive Bayes: 32.94 ± 24.17 %\n"
     ]
    }
   ],
   "source": [
    "for method in cv_results:\n",
    "    print(f\"\\n\\nCross Validation: {method}\\n\")\n",
    "    for model in cv_results[method]:\n",
    "        print(\n",
    "            f\"\\tAverage validation score of {model}: %.2f ± %.2f %%\"\n",
    "            % (\n",
    "                100 * np.mean(cv_results[method][model][\"test_score\"]),\n",
    "                100 * np.std(cv_results[method][model][\"test_score\"]),\n",
    "            ))"
   ]
  },
  {
   "cell_type": "markdown",
   "metadata": {},
   "source": [
    "**T-test**"
   ]
  },
  {
   "cell_type": "code",
   "execution_count": 73,
   "metadata": {},
   "outputs": [
    {
     "name": "stdout",
     "output_type": "stream",
     "text": [
      "\n",
      "\n",
      "Method: XGBoost \t 5-Fold vs Leave One Group Out\n",
      "\n",
      "\t· fit_time:\t 0.0089257 \t-\t <α: True\n",
      "\t· score_time:\t 0.0005698 \t-\t <α: True\n",
      "\t· test_score:\t 0.0065608 \t-\t <α: True\n",
      "\t· train_score:\t 0.0351978 \t-\t <α: True\n",
      "\n",
      "\n",
      "Method: Dummy \t 5-Fold vs Leave One Group Out\n",
      "\n",
      "\t· fit_time:\t 1e-07 \t-\t <α: True\n",
      "\t· score_time:\t 1.6e-05 \t-\t <α: True\n",
      "\t· test_score:\t 0.397766 \t-\t <α: False\n",
      "\t· train_score:\t 0.9527358 \t-\t <α: False\n",
      "\n",
      "\n",
      "Method: SVM \t 5-Fold vs Leave One Group Out\n",
      "\n",
      "\t· fit_time:\t 1.66e-05 \t-\t <α: True\n",
      "\t· score_time:\t 4.7e-06 \t-\t <α: True\n",
      "\t· test_score:\t 0.2590753 \t-\t <α: False\n",
      "\t· train_score:\t 0.1947971 \t-\t <α: False\n",
      "\n",
      "\n",
      "Method: Random Forest \t 5-Fold vs Leave One Group Out\n",
      "\n",
      "\t· fit_time:\t 3e-07 \t-\t <α: True\n",
      "\t· score_time:\t 6e-07 \t-\t <α: True\n",
      "\t· test_score:\t 0.0078662 \t-\t <α: True\n",
      "\t· train_score:\t 0.6703229 \t-\t <α: False\n",
      "\n",
      "\n",
      "Method: Naive Bayes \t 5-Fold vs Leave One Group Out\n",
      "\n",
      "\t· fit_time:\t 0.2763451 \t-\t <α: False\n",
      "\t· score_time:\t 1.7e-06 \t-\t <α: True\n",
      "\t· test_score:\t 0.0678899 \t-\t <α: False\n",
      "\t· train_score:\t 0.7456412 \t-\t <α: False\n",
      "\n",
      "\n",
      "------------------------------------\n",
      "\n",
      "\n",
      "Cross Validation: 5-Fold\n",
      "\n",
      "\n",
      "\tXGBoost vs Dummy\n",
      "\t\t· fit_time:\t 0.0  -   <α: True\n",
      "\t\t· score_time:\t 1.6e-06  -   <α: True\n",
      "\t\t· test_score:\t 0.0  -   <α: True\n",
      "\t\t· train_score:\t 0.0  -   <α: True\n",
      "\n",
      "\tXGBoost vs SVM\n",
      "\t\t· fit_time:\t 0.0  -   <α: True\n",
      "\t\t· score_time:\t 0.0  -   <α: True\n",
      "\t\t· test_score:\t 0.0  -   <α: True\n",
      "\t\t· train_score:\t 0.0  -   <α: True\n",
      "\n",
      "\tXGBoost vs Random Forest\n",
      "\t\t· fit_time:\t 0.0  -   <α: True\n",
      "\t\t· score_time:\t 0.0  -   <α: True\n",
      "\t\t· test_score:\t 0.7338206  -   <α: False\n",
      "\t\t· train_score:\t 0.0  -   <α: True\n",
      "\n",
      "\tXGBoost vs Naive Bayes\n",
      "\t\t· fit_time:\t 1e-07  -   <α: True\n",
      "\t\t· score_time:\t 3.2e-06  -   <α: True\n",
      "\t\t· test_score:\t 1e-07  -   <α: True\n",
      "\t\t· train_score:\t 0.0  -   <α: True\n",
      "\n",
      "\tDummy vs SVM\n",
      "\t\t· fit_time:\t 0.0  -   <α: True\n",
      "\t\t· score_time:\t 0.0  -   <α: True\n",
      "\t\t· test_score:\t 0.0054716  -   <α: True\n",
      "\t\t· train_score:\t 9e-07  -   <α: True\n",
      "\n",
      "\tDummy vs Random Forest\n",
      "\t\t· fit_time:\t 0.0  -   <α: True\n",
      "\t\t· score_time:\t 0.0  -   <α: True\n",
      "\t\t· test_score:\t 0.0  -   <α: True\n",
      "\t\t· train_score:\t 0.0  -   <α: True\n",
      "\n",
      "\tDummy vs Naive Bayes\n",
      "\t\t· fit_time:\t 0.0003207  -   <α: True\n",
      "\t\t· score_time:\t 0.002618  -   <α: True\n",
      "\t\t· test_score:\t 4e-07  -   <α: True\n",
      "\t\t· train_score:\t 0.0  -   <α: True\n",
      "\n",
      "\tSVM vs Random Forest\n",
      "\t\t· fit_time:\t 1e-07  -   <α: True\n",
      "\t\t· score_time:\t 0.0  -   <α: True\n",
      "\t\t· test_score:\t 0.0  -   <α: True\n",
      "\t\t· train_score:\t 0.0  -   <α: True\n",
      "\n",
      "\tSVM vs Naive Bayes\n",
      "\t\t· fit_time:\t 0.0  -   <α: True\n",
      "\t\t· score_time:\t 0.0  -   <α: True\n",
      "\t\t· test_score:\t 6.2e-06  -   <α: True\n",
      "\t\t· train_score:\t 1e-07  -   <α: True\n",
      "\n",
      "\tRandom Forest vs Naive Bayes\n",
      "\t\t· fit_time:\t 0.0  -   <α: True\n",
      "\t\t· score_time:\t 0.0  -   <α: True\n",
      "\t\t· test_score:\t 5e-07  -   <α: True\n",
      "\t\t· train_score:\t 0.0  -   <α: True\n",
      "\n",
      "\n",
      "Cross Validation: Leave One Group Out\n",
      "\n",
      "\n",
      "\tXGBoost vs Dummy\n",
      "\t\t· fit_time:\t 0.0  -   <α: True\n",
      "\t\t· score_time:\t 2e-05  -   <α: True\n",
      "\t\t· test_score:\t 0.1046341  -   <α: False\n",
      "\t\t· train_score:\t 0.0  -   <α: True\n",
      "\n",
      "\tXGBoost vs SVM\n",
      "\t\t· fit_time:\t 0.0  -   <α: True\n",
      "\t\t· score_time:\t 0.0  -   <α: True\n",
      "\t\t· test_score:\t 0.4526116  -   <α: False\n",
      "\t\t· train_score:\t 0.0  -   <α: True\n",
      "\n",
      "\tXGBoost vs Random Forest\n",
      "\t\t· fit_time:\t 0.0  -   <α: True\n",
      "\t\t· score_time:\t 0.0  -   <α: True\n",
      "\t\t· test_score:\t 0.9748036  -   <α: False\n",
      "\t\t· train_score:\t 0.0  -   <α: True\n",
      "\n",
      "\tXGBoost vs Naive Bayes\n",
      "\t\t· fit_time:\t 0.0  -   <α: True\n",
      "\t\t· score_time:\t 3.75e-05  -   <α: True\n",
      "\t\t· test_score:\t 0.272742  -   <α: False\n",
      "\t\t· train_score:\t 0.0  -   <α: True\n",
      "\n",
      "\tDummy vs SVM\n",
      "\t\t· fit_time:\t 0.0  -   <α: True\n",
      "\t\t· score_time:\t 0.0  -   <α: True\n",
      "\t\t· test_score:\t 0.0931871  -   <α: False\n",
      "\t\t· train_score:\t 0.0002545  -   <α: True\n",
      "\n",
      "\tDummy vs Random Forest\n",
      "\t\t· fit_time:\t 0.0  -   <α: True\n",
      "\t\t· score_time:\t 0.0  -   <α: True\n",
      "\t\t· test_score:\t 0.104703  -   <α: False\n",
      "\t\t· train_score:\t 0.0  -   <α: True\n",
      "\n",
      "\tDummy vs Naive Bayes\n",
      "\t\t· fit_time:\t 0.0  -   <α: True\n",
      "\t\t· score_time:\t 0.4848343  -   <α: False\n",
      "\t\t· test_score:\t 0.0263617  -   <α: True\n",
      "\t\t· train_score:\t 0.0  -   <α: True\n",
      "\n",
      "\tSVM vs Random Forest\n",
      "\t\t· fit_time:\t 0.0  -   <α: True\n",
      "\t\t· score_time:\t 0.0  -   <α: True\n",
      "\t\t· test_score:\t 0.4677811  -   <α: False\n",
      "\t\t· train_score:\t 0.0  -   <α: True\n",
      "\n",
      "\tSVM vs Naive Bayes\n",
      "\t\t· fit_time:\t 0.0  -   <α: True\n",
      "\t\t· score_time:\t 0.0  -   <α: True\n",
      "\t\t· test_score:\t 0.8468412  -   <α: False\n",
      "\t\t· train_score:\t 0.0125837  -   <α: True\n",
      "\n",
      "\tRandom Forest vs Naive Bayes\n",
      "\t\t· fit_time:\t 0.0  -   <α: True\n",
      "\t\t· score_time:\t 0.0  -   <α: True\n",
      "\t\t· test_score:\t 0.2865175  -   <α: False\n",
      "\t\t· train_score:\t 0.0  -   <α: True\n"
     ]
    }
   ],
   "source": [
    "from scipy.stats import ttest_ind\n",
    "\n",
    "for method in cv_results[\"5-Fold\"]:\n",
    "    print(f\"\\n\\nMethod: {method} \\t 5-Fold vs Leave One Group Out\\n\")\n",
    "    for score in cv_results[\"5-Fold\"][method]:\n",
    "        t_test = ttest_ind(cv_results[\"5-Fold\"][method][score], cv_results[\"Leave One Group Out\"][method][score])\n",
    "        print(f\"\\t\\u00b7 {score}:\\t {round(t_test[1], 7)} \\t-\\t <\\u03b1: {t_test[1] < 0.05}\")\n",
    "\n",
    "print(\"\\n\\n------------------------------------\")\n",
    "\n",
    "couples = []\n",
    "\n",
    "mod = list(models.keys())\n",
    "\n",
    "for i in range(len(mod)):\n",
    "    for j in range(i+1, len(mod)):\n",
    "        couples.append((mod[i], mod[j]))\n",
    "\n",
    "for cv in cv_results:\n",
    "    print(f\"\\n\\nCross Validation: {cv}\\n\")\n",
    "    for couple in couples:\n",
    "        print(f\"\\n\\t{couple[0]} vs {couple[1]}\")\n",
    "        for score in cv_results[cv][couple[0]]:\n",
    "            t_test = ttest_ind(cv_results[cv][couple[0]][score], cv_results[cv][couple[1]][score])\n",
    "            print(f\"\\t\\t\\u00b7 {score}:\\t {round(t_test[1], 7)}  -   <\\u03b1: {t_test[1] < 0.05}\")"
   ]
  }
 ],
 "metadata": {
  "celltoolbar": "Slideshow",
  "kernelspec": {
   "display_name": "Python 3 (ipykernel)",
   "language": "python",
   "name": "python3"
  },
  "language_info": {
   "codemirror_mode": {
    "name": "ipython",
    "version": 3
   },
   "file_extension": ".py",
   "mimetype": "text/x-python",
   "name": "python",
   "nbconvert_exporter": "python",
   "pygments_lexer": "ipython3",
   "version": "3.11.6"
  }
 },
 "nbformat": 4,
 "nbformat_minor": 5
}
